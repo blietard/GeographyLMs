{
 "cells": [
  {
   "cell_type": "markdown",
   "id": "07679abf-add4-4962-816e-cc649f274212",
   "metadata": {},
   "source": [
    "# Create countries.csv from iso-code/name and iso-code/coordinates"
   ]
  },
  {
   "cell_type": "code",
   "execution_count": 1,
   "id": "3b814e78-ac76-4c5f-83d4-5530f445c391",
   "metadata": {},
   "outputs": [],
   "source": [
    "%config Completer.use_jedi = False"
   ]
  },
  {
   "cell_type": "code",
   "execution_count": 37,
   "id": "3f0e48ef-61e4-48f1-9d58-c81b1312b9a1",
   "metadata": {},
   "outputs": [],
   "source": [
    "import numpy as np"
   ]
  },
  {
   "cell_type": "code",
   "execution_count": 2,
   "id": "5c3581a2-f5b5-441d-a1b3-1c1cf6d54428",
   "metadata": {},
   "outputs": [],
   "source": [
    "import pandas as pd"
   ]
  },
  {
   "cell_type": "code",
   "execution_count": 10,
   "id": "345883a5-983a-43ec-91e8-abb8d95877a5",
   "metadata": {},
   "outputs": [],
   "source": [
    "codes = pd.read_csv('./csv/isocodes.csv',keep_default_na=False)\n",
    "countries_coords = pd.read_csv('./csv/countries_coords.csv',keep_default_na=False)\n",
    "countries = pd.merge(left=codes, right=countries_coords, left_on='Code', right_on='Country').drop('Country', axis=1).sort_values(axis=0,by='Code')\n",
    "countries.to_csv('./csv/countries.csv',index=False)"
   ]
  },
  {
   "cell_type": "markdown",
   "id": "b0698619-9c0d-4a0a-ac1b-23a5d8e78ea8",
   "metadata": {},
   "source": [
    "# Extend countries CSV file"
   ]
  },
  {
   "cell_type": "code",
   "execution_count": 61,
   "id": "74ed1bed-553f-4b11-8f82-18ca3a1a79c7",
   "metadata": {},
   "outputs": [],
   "source": [
    "countries = pd.read_csv('./csv/countries.csv',keep_default_na=False)"
   ]
  },
  {
   "cell_type": "code",
   "execution_count": 40,
   "id": "6c57cb47-a3e9-4b03-b258-87aadac3b294",
   "metadata": {},
   "outputs": [],
   "source": [
    "hdi = pd.read_csv('./csv/countries_hdi.csv',keep_default_na=False)\n",
    "pop = pd.read_csv('./csv/countries_population(millions).csv',keep_default_na=False)\n",
    "gdp = pd.read_csv('./csv/countries_gdp(billions).csv',keep_default_na=False)\n",
    "gdppc = pd.read_csv('./csv/countries_gdp_per_capita.csv',keep_default_na=False)\n",
    "gnipc = pd.read_csv('./csv/countries_gni_per_capita.csv',keep_default_na=False)\n",
    "labels=['HDI','Population','GDP','GPD per cap.','GNI per cap.']\n",
    "DF_list = [hdi, pop, gdp, gdppc, gnipc]"
   ]
  },
  {
   "cell_type": "code",
   "execution_count": 41,
   "id": "47bff64e-8834-4892-8c4d-598acf2ab5f8",
   "metadata": {
    "tags": []
   },
   "outputs": [
    {
     "name": "stderr",
     "output_type": "stream",
     "text": [
      "/home/bastien/anaconda3/envs/work/lib/python3.7/site-packages/ipykernel_launcher.py:5: SettingWithCopyWarning: \n",
      "A value is trying to be set on a copy of a slice from a DataFrame.\n",
      "Try using .loc[row_indexer,col_indexer] = value instead\n",
      "\n",
      "See the caveats in the documentation: https://pandas.pydata.org/pandas-docs/stable/user_guide/indexing.html#returning-a-view-versus-a-copy\n",
      "  \"\"\"\n"
     ]
    }
   ],
   "source": [
    "indexes_to_change = []\n",
    "count_to_replace = []\n",
    "for i,df in enumerate(DF_list):\n",
    "    df = df[['Country','2019']]\n",
    "    df['Country']=df['Country'].str[1:]\n",
    "    DF_list[i]=df\n",
    "    inds = []\n",
    "    for j,c in enumerate(df.Country):\n",
    "        if c not in list(countries.Name):\n",
    "            if c not in count_to_replace:\n",
    "                count_to_replace.append(c)\n",
    "            inds.append(j)\n",
    "    indexes_to_change.append(inds)"
   ]
  },
  {
   "cell_type": "code",
   "execution_count": 48,
   "id": "f35ec7df-a468-410b-9df3-1e89a4f80cb5",
   "metadata": {
    "tags": []
   },
   "outputs": [],
   "source": [
    "replacement_list = ['Bolivia, Plurinational State of',\n",
    "                    'Cape Verde',\n",
    "                    'Congo, the Democratic Republic of the',\n",
    "                    \"Côte d'Ivoire\",\n",
    "                    'Czech Republic',\n",
    "                    'Swaziland',\n",
    "                    'Hong Kong',\n",
    "                    'Iran, Islamic Republic of',\n",
    "                    \"Korea, Democratic People's Republic of\",\n",
    "                    'Korea, Republic of',\n",
    "                    'Micronesia, Federated States of',\n",
    "                    'Moldova, Republic of',\n",
    "                    'Macedonia, the Former Yugoslav Republic of',\n",
    "                    'Tanzania, United Republic of',\n",
    "                    'Venezuela, Bolivarian Republic of'\n",
    "                   ]"
   ]
  },
  {
   "cell_type": "code",
   "execution_count": 51,
   "id": "3affdef5-d930-4fc2-8fe6-61e2f468430e",
   "metadata": {},
   "outputs": [
    {
     "name": "stderr",
     "output_type": "stream",
     "text": [
      "/home/bastien/anaconda3/envs/work/lib/python3.7/site-packages/pandas/core/indexing.py:1720: SettingWithCopyWarning: \n",
      "A value is trying to be set on a copy of a slice from a DataFrame.\n",
      "Try using .loc[row_indexer,col_indexer] = value instead\n",
      "\n",
      "See the caveats in the documentation: https://pandas.pydata.org/pandas-docs/stable/user_guide/indexing.html#returning-a-view-versus-a-copy\n",
      "  self._setitem_single_column(loc, value, pi)\n",
      "/home/bastien/anaconda3/envs/work/lib/python3.7/site-packages/pandas/core/indexing.py:1637: SettingWithCopyWarning: \n",
      "A value is trying to be set on a copy of a slice from a DataFrame\n",
      "\n",
      "See the caveats in the documentation: https://pandas.pydata.org/pandas-docs/stable/user_guide/indexing.html#returning-a-view-versus-a-copy\n",
      "  self._setitem_single_block(indexer, value, name)\n",
      "/home/bastien/anaconda3/envs/work/lib/python3.7/site-packages/pandas/core/indexing.py:692: SettingWithCopyWarning: \n",
      "A value is trying to be set on a copy of a slice from a DataFrame\n",
      "\n",
      "See the caveats in the documentation: https://pandas.pydata.org/pandas-docs/stable/user_guide/indexing.html#returning-a-view-versus-a-copy\n",
      "  iloc._setitem_with_indexer(indexer, value, self.name)\n"
     ]
    }
   ],
   "source": [
    "count_to_replace.sort()\n",
    "for i,df in enumerate(DF_list):\n",
    "    for j,country in enumerate(df.Country):\n",
    "        if country in count_to_replace:\n",
    "            ind = count_to_replace.index(country)\n",
    "            df.loc[j,'Country']=replacement_list[ind]\n",
    "    DF_list[i]=df"
   ]
  },
  {
   "cell_type": "code",
   "execution_count": 62,
   "id": "992b2aed-c9e2-4405-aceb-eceb3126e398",
   "metadata": {},
   "outputs": [
    {
     "name": "stderr",
     "output_type": "stream",
     "text": [
      "/home/bastien/anaconda3/envs/work/lib/python3.7/site-packages/pandas/core/frame.py:4449: SettingWithCopyWarning: \n",
      "A value is trying to be set on a copy of a slice from a DataFrame\n",
      "\n",
      "See the caveats in the documentation: https://pandas.pydata.org/pandas-docs/stable/user_guide/indexing.html#returning-a-view-versus-a-copy\n",
      "  errors=errors,\n"
     ]
    }
   ],
   "source": [
    "for i, df in enumerate(DF_list):\n",
    "    df.rename(columns={'2019':labels[i]},inplace=True)\n",
    "    countries = pd.merge(left=countries, right=df, left_on='Name', right_on='Country',how='outer').drop('Country',axis=1).sort_values(by='Name',axis=0)"
   ]
  },
  {
   "cell_type": "code",
   "execution_count": 69,
   "id": "b3744717-51d5-43e7-8688-1e88a73e5c99",
   "metadata": {},
   "outputs": [],
   "source": [
    "countries.to_csv('./csv/countries_extended.csv')"
   ]
  }
 ],
 "metadata": {
  "kernelspec": {
   "display_name": "Python 3",
   "language": "python",
   "name": "python3"
  },
  "language_info": {
   "codemirror_mode": {
    "name": "ipython",
    "version": 3
   },
   "file_extension": ".py",
   "mimetype": "text/x-python",
   "name": "python",
   "nbconvert_exporter": "python",
   "pygments_lexer": "ipython3",
   "version": "3.7.0"
  }
 },
 "nbformat": 4,
 "nbformat_minor": 5
}
