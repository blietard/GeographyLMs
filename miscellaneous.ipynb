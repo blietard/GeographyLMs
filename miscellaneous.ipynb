{
 "cells": [
  {
   "cell_type": "markdown",
   "id": "07679abf-add4-4962-816e-cc649f274212",
   "metadata": {},
   "source": [
    "# Create countries.csv from iso-code/name and iso-code/coordinates"
   ]
  },
  {
   "cell_type": "code",
   "execution_count": 1,
   "id": "5c3581a2-f5b5-441d-a1b3-1c1cf6d54428",
   "metadata": {},
   "outputs": [],
   "source": [
    "import pandas as pd"
   ]
  },
  {
   "cell_type": "code",
   "execution_count": null,
   "id": "345883a5-983a-43ec-91e8-abb8d95877a5",
   "metadata": {},
   "outputs": [],
   "source": [
    "codes = pd.read_csv('./csv/isocodes.csv')\n",
    "countries_coords = pd.read_csv('./csv/countries_coords.csv')\n",
    "countries = pd.merge(left=codes, right=countries_coords, left_on='Code', right_on='Country').drop('Country', axis=1)\n",
    "countries.to_csv('./csv/countries.csv',index=False)"
   ]
  }
 ],
 "metadata": {
  "kernelspec": {
   "display_name": "Python 3",
   "language": "python",
   "name": "python3"
  },
  "language_info": {
   "codemirror_mode": {
    "name": "ipython",
    "version": 3
   },
   "file_extension": ".py",
   "mimetype": "text/x-python",
   "name": "python",
   "nbconvert_exporter": "python",
   "pygments_lexer": "ipython3",
   "version": "3.7.0"
  }
 },
 "nbformat": 4,
 "nbformat_minor": 5
}
