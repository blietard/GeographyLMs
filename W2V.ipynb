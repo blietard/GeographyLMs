{
 "cells": [
  {
   "cell_type": "code",
   "execution_count": 1,
   "id": "961e9ac1-c9ef-4754-9586-c0c87caeaf63",
   "metadata": {},
   "outputs": [],
   "source": [
    "%config Completer.use_jedi = False\n",
    "import numpy as np\n",
    "import pandas as pd\n",
    "import sys\n",
    "from tqdm import tqdm"
   ]
  },
  {
   "cell_type": "code",
   "execution_count": 2,
   "id": "cdcd02ae-5bbf-4591-90c2-baee88a0833e",
   "metadata": {},
   "outputs": [],
   "source": [
    "import gensim.downloader as api"
   ]
  },
  {
   "cell_type": "code",
   "execution_count": 3,
   "id": "63eb4fd1-e7a9-47d7-8e54-6e105e99fc9f",
   "metadata": {},
   "outputs": [],
   "source": [
    "wv = api.load('word2vec-google-news-300')"
   ]
  },
  {
   "cell_type": "code",
   "execution_count": 4,
   "id": "9e5c943b-d95b-40e1-9bfb-305285275eea",
   "metadata": {},
   "outputs": [
    {
     "data": {
      "text/html": [
       "<div>\n",
       "<style scoped>\n",
       "    .dataframe tbody tr th:only-of-type {\n",
       "        vertical-align: middle;\n",
       "    }\n",
       "\n",
       "    .dataframe tbody tr th {\n",
       "        vertical-align: top;\n",
       "    }\n",
       "\n",
       "    .dataframe thead th {\n",
       "        text-align: right;\n",
       "    }\n",
       "</style>\n",
       "<table border=\"1\" class=\"dataframe\">\n",
       "  <thead>\n",
       "    <tr style=\"text-align: right;\">\n",
       "      <th></th>\n",
       "      <th>Country</th>\n",
       "      <th>City</th>\n",
       "      <th>AccentCity</th>\n",
       "      <th>Population</th>\n",
       "      <th>Latitude</th>\n",
       "      <th>Longitude</th>\n",
       "    </tr>\n",
       "  </thead>\n",
       "  <tbody>\n",
       "    <tr>\n",
       "      <th>0</th>\n",
       "      <td>ae</td>\n",
       "      <td>abu dhabi</td>\n",
       "      <td>Abu Dhabi</td>\n",
       "      <td>603687.0</td>\n",
       "      <td>24.466667</td>\n",
       "      <td>54.366667</td>\n",
       "    </tr>\n",
       "    <tr>\n",
       "      <th>1</th>\n",
       "      <td>ae</td>\n",
       "      <td>dubai</td>\n",
       "      <td>Dubai</td>\n",
       "      <td>1137376.0</td>\n",
       "      <td>25.258172</td>\n",
       "      <td>55.304717</td>\n",
       "    </tr>\n",
       "    <tr>\n",
       "      <th>2</th>\n",
       "      <td>ae</td>\n",
       "      <td>sharjah</td>\n",
       "      <td>Sharjah</td>\n",
       "      <td>543942.0</td>\n",
       "      <td>25.357310</td>\n",
       "      <td>55.403304</td>\n",
       "    </tr>\n",
       "    <tr>\n",
       "      <th>3</th>\n",
       "      <td>af</td>\n",
       "      <td>baglan</td>\n",
       "      <td>Baglan</td>\n",
       "      <td>108481.0</td>\n",
       "      <td>36.130684</td>\n",
       "      <td>68.708286</td>\n",
       "    </tr>\n",
       "    <tr>\n",
       "      <th>4</th>\n",
       "      <td>af</td>\n",
       "      <td>gardez</td>\n",
       "      <td>Gardez</td>\n",
       "      <td>103732.0</td>\n",
       "      <td>33.597439</td>\n",
       "      <td>69.225922</td>\n",
       "    </tr>\n",
       "    <tr>\n",
       "      <th>...</th>\n",
       "      <td>...</td>\n",
       "      <td>...</td>\n",
       "      <td>...</td>\n",
       "      <td>...</td>\n",
       "      <td>...</td>\n",
       "      <td>...</td>\n",
       "    </tr>\n",
       "    <tr>\n",
       "      <th>3522</th>\n",
       "      <td>zw</td>\n",
       "      <td>gweru</td>\n",
       "      <td>Gweru</td>\n",
       "      <td>201879.0</td>\n",
       "      <td>-19.450000</td>\n",
       "      <td>29.816667</td>\n",
       "    </tr>\n",
       "    <tr>\n",
       "      <th>3523</th>\n",
       "      <td>zw</td>\n",
       "      <td>harare</td>\n",
       "      <td>Harare</td>\n",
       "      <td>2213701.0</td>\n",
       "      <td>-17.817778</td>\n",
       "      <td>31.044722</td>\n",
       "    </tr>\n",
       "    <tr>\n",
       "      <th>3524</th>\n",
       "      <td>zw</td>\n",
       "      <td>kadoma</td>\n",
       "      <td>Kadoma</td>\n",
       "      <td>100276.0</td>\n",
       "      <td>-18.350000</td>\n",
       "      <td>29.916667</td>\n",
       "    </tr>\n",
       "    <tr>\n",
       "      <th>3525</th>\n",
       "      <td>zw</td>\n",
       "      <td>kwekwe</td>\n",
       "      <td>Kwekwe</td>\n",
       "      <td>116332.0</td>\n",
       "      <td>-18.916667</td>\n",
       "      <td>29.816667</td>\n",
       "    </tr>\n",
       "    <tr>\n",
       "      <th>3526</th>\n",
       "      <td>zw</td>\n",
       "      <td>mutare</td>\n",
       "      <td>Mutare</td>\n",
       "      <td>253449.0</td>\n",
       "      <td>-18.966667</td>\n",
       "      <td>32.666667</td>\n",
       "    </tr>\n",
       "  </tbody>\n",
       "</table>\n",
       "<p>3527 rows × 6 columns</p>\n",
       "</div>"
      ],
      "text/plain": [
       "     Country       City AccentCity  Population   Latitude  Longitude\n",
       "0         ae  abu dhabi  Abu Dhabi    603687.0  24.466667  54.366667\n",
       "1         ae      dubai      Dubai   1137376.0  25.258172  55.304717\n",
       "2         ae    sharjah    Sharjah    543942.0  25.357310  55.403304\n",
       "3         af     baglan     Baglan    108481.0  36.130684  68.708286\n",
       "4         af     gardez     Gardez    103732.0  33.597439  69.225922\n",
       "...      ...        ...        ...         ...        ...        ...\n",
       "3522      zw      gweru      Gweru    201879.0 -19.450000  29.816667\n",
       "3523      zw     harare     Harare   2213701.0 -17.817778  31.044722\n",
       "3524      zw     kadoma     Kadoma    100276.0 -18.350000  29.916667\n",
       "3525      zw     kwekwe     Kwekwe    116332.0 -18.916667  29.816667\n",
       "3526      zw     mutare     Mutare    253449.0 -18.966667  32.666667\n",
       "\n",
       "[3527 rows x 6 columns]"
      ]
     },
     "execution_count": 4,
     "metadata": {},
     "output_type": "execute_result"
    }
   ],
   "source": [
    "cities = pd.read_csv('./csv/worldcitiespop.csv',header=0,dtype={'AccentCity':'str','Region':'object'}).dropna().drop('Region',axis=1)\n",
    "cities = cities[cities.Population>100000].reset_index(drop=True)\n",
    "cities"
   ]
  },
  {
   "cell_type": "code",
   "execution_count": 5,
   "id": "e184cb65-6ed1-43ef-a77b-761572101d82",
   "metadata": {},
   "outputs": [
    {
     "data": {
      "text/html": [
       "<div>\n",
       "<style scoped>\n",
       "    .dataframe tbody tr th:only-of-type {\n",
       "        vertical-align: middle;\n",
       "    }\n",
       "\n",
       "    .dataframe tbody tr th {\n",
       "        vertical-align: top;\n",
       "    }\n",
       "\n",
       "    .dataframe thead th {\n",
       "        text-align: right;\n",
       "    }\n",
       "</style>\n",
       "<table border=\"1\" class=\"dataframe\">\n",
       "  <thead>\n",
       "    <tr style=\"text-align: right;\">\n",
       "      <th></th>\n",
       "      <th>Name</th>\n",
       "      <th>Code</th>\n",
       "      <th>Latitude</th>\n",
       "      <th>Longitude</th>\n",
       "    </tr>\n",
       "  </thead>\n",
       "  <tbody>\n",
       "    <tr>\n",
       "      <th>0</th>\n",
       "      <td>Andorra</td>\n",
       "      <td>AD</td>\n",
       "      <td>42.5000</td>\n",
       "      <td>1.5000</td>\n",
       "    </tr>\n",
       "    <tr>\n",
       "      <th>1</th>\n",
       "      <td>United Arab Emirates</td>\n",
       "      <td>AE</td>\n",
       "      <td>24.0000</td>\n",
       "      <td>54.0000</td>\n",
       "    </tr>\n",
       "    <tr>\n",
       "      <th>2</th>\n",
       "      <td>Afghanistan</td>\n",
       "      <td>AF</td>\n",
       "      <td>33.0000</td>\n",
       "      <td>65.0000</td>\n",
       "    </tr>\n",
       "    <tr>\n",
       "      <th>3</th>\n",
       "      <td>Antigua and Barbuda</td>\n",
       "      <td>AG</td>\n",
       "      <td>17.0500</td>\n",
       "      <td>-61.8000</td>\n",
       "    </tr>\n",
       "    <tr>\n",
       "      <th>4</th>\n",
       "      <td>Anguilla</td>\n",
       "      <td>AI</td>\n",
       "      <td>18.2500</td>\n",
       "      <td>-63.1667</td>\n",
       "    </tr>\n",
       "    <tr>\n",
       "      <th>...</th>\n",
       "      <td>...</td>\n",
       "      <td>...</td>\n",
       "      <td>...</td>\n",
       "      <td>...</td>\n",
       "    </tr>\n",
       "    <tr>\n",
       "      <th>244</th>\n",
       "      <td>Yemen</td>\n",
       "      <td>YE</td>\n",
       "      <td>15.0000</td>\n",
       "      <td>48.0000</td>\n",
       "    </tr>\n",
       "    <tr>\n",
       "      <th>245</th>\n",
       "      <td>Mayotte</td>\n",
       "      <td>YT</td>\n",
       "      <td>-12.8333</td>\n",
       "      <td>45.1667</td>\n",
       "    </tr>\n",
       "    <tr>\n",
       "      <th>246</th>\n",
       "      <td>South Africa</td>\n",
       "      <td>ZA</td>\n",
       "      <td>-29.0000</td>\n",
       "      <td>24.0000</td>\n",
       "    </tr>\n",
       "    <tr>\n",
       "      <th>247</th>\n",
       "      <td>Zambia</td>\n",
       "      <td>ZM</td>\n",
       "      <td>-15.0000</td>\n",
       "      <td>30.0000</td>\n",
       "    </tr>\n",
       "    <tr>\n",
       "      <th>248</th>\n",
       "      <td>Zimbabwe</td>\n",
       "      <td>ZW</td>\n",
       "      <td>-20.0000</td>\n",
       "      <td>30.0000</td>\n",
       "    </tr>\n",
       "  </tbody>\n",
       "</table>\n",
       "<p>249 rows × 4 columns</p>\n",
       "</div>"
      ],
      "text/plain": [
       "                     Name Code  Latitude  Longitude\n",
       "0                 Andorra   AD   42.5000     1.5000\n",
       "1    United Arab Emirates   AE   24.0000    54.0000\n",
       "2             Afghanistan   AF   33.0000    65.0000\n",
       "3     Antigua and Barbuda   AG   17.0500   -61.8000\n",
       "4                Anguilla   AI   18.2500   -63.1667\n",
       "..                    ...  ...       ...        ...\n",
       "244                 Yemen   YE   15.0000    48.0000\n",
       "245               Mayotte   YT  -12.8333    45.1667\n",
       "246          South Africa   ZA  -29.0000    24.0000\n",
       "247                Zambia   ZM  -15.0000    30.0000\n",
       "248              Zimbabwe   ZW  -20.0000    30.0000\n",
       "\n",
       "[249 rows x 4 columns]"
      ]
     },
     "execution_count": 5,
     "metadata": {},
     "output_type": "execute_result"
    }
   ],
   "source": [
    "countries = pd.read_csv('./csv/countries.csv',keep_default_na=False)\n",
    "countries"
   ]
  },
  {
   "cell_type": "code",
   "execution_count": 8,
   "id": "7d5d0898-448b-4ec1-9864-dc1b7ee87e3a",
   "metadata": {},
   "outputs": [
    {
     "name": "stdout",
     "output_type": "stream",
     "text": [
      "100%|██████████| 3527/3527 [00:00<00:00, 8207.20it/s]\n"
     ]
    }
   ],
   "source": [
    "cities_embdgs = np.empty( (len(cities),300) )\n",
    "cities_embdgs[:] = np.NaN #fill with NaN values\n",
    "missed = []\n",
    "for i,city in tqdm(enumerate(cities.City),total = len(cities),file=sys.stdout) :\n",
    "    city_split = city.split()\n",
    "    for j in range(len(city_split)):\n",
    "        city_split[j] = city_split[j][0].upper() + city_split[j][1:]\n",
    "    city_name = \"_\".join(city_split)\n",
    "    try:\n",
    "        cities_embdgs[i] = wv[city_name]\n",
    "    except KeyError:\n",
    "        try :\n",
    "            cities_embdgs[i] = wv[city_name.upper()]\n",
    "        except KeyError:\n",
    "            try :\n",
    "                cities_embdgs[i] = wv[\"_\".join(city_name.split('-'))]\n",
    "            except KeyError :\n",
    "                try :\n",
    "                    cities_embdgs[i] = wv[\"_\".join(city_name.split('-')).upper()]\n",
    "                except KeyError :                \n",
    "                    missed.append( (i,city) )"
   ]
  },
  {
   "cell_type": "code",
   "execution_count": 508,
   "id": "c547d5f3-a87d-4a51-950f-ad8d07253390",
   "metadata": {},
   "outputs": [],
   "source": [
    "np.save(arr=cities_embdgs,file='./embd_files/w2v_cities.npy')"
   ]
  },
  {
   "cell_type": "code",
   "execution_count": 502,
   "id": "ed9c40ae-e384-4eb5-91e8-8594180026e5",
   "metadata": {},
   "outputs": [],
   "source": [
    "for word in wv.index_to_key:\n",
    "    if 'syzr' in word.lower():\n",
    "        print(word)"
   ]
  },
  {
   "cell_type": "code",
   "execution_count": 498,
   "id": "7861b2ba-c13d-4d68-83eb-ff2e516522ee",
   "metadata": {},
   "outputs": [
    {
     "data": {
      "text/plain": [
       "(2867, 'staryy oskol')"
      ]
     },
     "execution_count": 498,
     "metadata": {},
     "output_type": "execute_result"
    }
   ],
   "source": [
    "ind = 33\n",
    "missed[ind]"
   ]
  },
  {
   "cell_type": "code",
   "execution_count": 499,
   "id": "1396f0c4-7d06-4e48-943a-26262f1ea45d",
   "metadata": {},
   "outputs": [
    {
     "name": "stdout",
     "output_type": "stream",
     "text": [
      "(2867, 'staryy oskol') \n",
      " now : (2869, 'sterlitamak')\n"
     ]
    }
   ],
   "source": [
    "i = missed[ind][0]\n",
    "cities_embdgs[i] = wv['Stary_Oskol']\n",
    "print(missed.pop(ind),'\\n now :',missed[ind])"
   ]
  },
  {
   "cell_type": "code",
   "execution_count": 509,
   "id": "5b4de2fe-586b-4cfc-b8a7-172546d161d2",
   "metadata": {},
   "outputs": [],
   "source": [
    "country_names = [ name.split(',')[0].split('(')[0].strip() for name in countries.Name]"
   ]
  },
  {
   "cell_type": "code",
   "execution_count": 510,
   "id": "36c33567-dfee-4988-b1bd-860695aea092",
   "metadata": {},
   "outputs": [
    {
     "name": "stdout",
     "output_type": "stream",
     "text": [
      "Korea 120\n",
      "Virgin Islands 238\n"
     ]
    }
   ],
   "source": [
    "for i in range(len(country_names)-1):\n",
    "    if country_names[i]==country_names[i+1]:\n",
    "        print(country_names[i],i)"
   ]
  },
  {
   "cell_type": "code",
   "execution_count": 511,
   "id": "1c3c3a22-a5a8-479b-9c10-e717ab2c43da",
   "metadata": {},
   "outputs": [],
   "source": [
    "country_names[120] = 'North '+country_names[120]\n",
    "country_names[121] = 'South '+country_names[121]\n",
    "\n",
    "country_names[238] = 'British '+country_names[238]\n",
    "country_names[239] = 'U.S. '+country_names[239]"
   ]
  },
  {
   "cell_type": "code",
   "execution_count": 512,
   "id": "57ea6ead-0a85-42fe-b0f3-6bb6c9200813",
   "metadata": {},
   "outputs": [
    {
     "name": "stdout",
     "output_type": "stream",
     "text": [
      "100%|██████████| 249/249 [00:00<00:00, 5559.04it/s]\n"
     ]
    }
   ],
   "source": [
    "countries_embdgs = np.empty( (len(countries),300) )\n",
    "countries_embdgs[:] = np.NaN #fill with NaN values\n",
    "missed = []\n",
    "for i,country in tqdm(enumerate(country_names),total = len(countries),file=sys.stdout) :\n",
    "    country_split = country.split()\n",
    "    for j in range(len(country_split)):\n",
    "        country_split[j] = country_split[j][0].upper() + country_split[j][1:]\n",
    "    country_name = \"_\".join(country_split)\n",
    "    try:\n",
    "        countries_embdgs[i] = wv[country_name]\n",
    "    except KeyError:\n",
    "        try :\n",
    "            countries_embdgs[i] = wv[country_name.upper()]\n",
    "        except KeyError:\n",
    "            try :\n",
    "                countries_embdgs[i] = wv[\"_\".join(country_name.split('-'))]\n",
    "            except KeyError :\n",
    "                try :\n",
    "                    countries_embdgs[i] = wv[\"_\".join(country_name.split('-')).upper()]\n",
    "                except KeyError :                \n",
    "                    missed.append( (i,country) )"
   ]
  },
  {
   "cell_type": "code",
   "execution_count": 513,
   "id": "8a221e6a-7672-4d29-b1db-a8a54d83c8c5",
   "metadata": {},
   "outputs": [
    {
     "data": {
      "text/plain": [
       "[(3, 'Antigua and Barbuda'),\n",
       " (43, \"Côte d'Ivoire\"),\n",
       " (53, 'Christmas Island'),\n",
       " (89, 'South Georgia and the South Sandwich Islands'),\n",
       " (95, 'Heard Island and McDonald Islands'),\n",
       " (105, 'British Indian Ocean Territory'),\n",
       " (119, 'Saint Kitts and Nevis'),\n",
       " (125, \"Lao People's Democratic Republic\"),\n",
       " (179, 'Saint Pierre and Miquelon'),\n",
       " (198, 'Saint Helena'),\n",
       " (200, 'Svalbard and Jan Mayen'),\n",
       " (211, 'Syrian Arab Republic'),\n",
       " (215, 'French Southern Territories'),\n",
       " (231, 'United States Minor Outlying Islands'),\n",
       " (236, 'Saint Vincent and the Grenadines'),\n",
       " (239, 'U.S. Virgin Islands'),\n",
       " (242, 'Wallis and Futuna')]"
      ]
     },
     "execution_count": 513,
     "metadata": {},
     "output_type": "execute_result"
    }
   ],
   "source": [
    "missed"
   ]
  },
  {
   "cell_type": "code",
   "execution_count": 544,
   "id": "713d8239-9bc4-4118-9e9f-8dcc49ded9dc",
   "metadata": {},
   "outputs": [
    {
     "data": {
      "text/plain": [
       "(242, 'Wallis and Futuna')"
      ]
     },
     "execution_count": 544,
     "metadata": {},
     "output_type": "execute_result"
    }
   ],
   "source": [
    "ind = 13\n",
    "missed[ind]"
   ]
  },
  {
   "cell_type": "code",
   "execution_count": 545,
   "id": "3b88a927-0f7b-44c1-9f0b-88625e83f697",
   "metadata": {},
   "outputs": [
    {
     "ename": "IndexError",
     "evalue": "list index out of range",
     "output_type": "error",
     "traceback": [
      "\u001b[0;31m---------------------------------------------------------------------------\u001b[0m",
      "\u001b[0;31mIndexError\u001b[0m                                Traceback (most recent call last)",
      "\u001b[0;32m<ipython-input-545-fc690f9b30ee>\u001b[0m in \u001b[0;36m<module>\u001b[0;34m\u001b[0m\n\u001b[1;32m      1\u001b[0m \u001b[0mi\u001b[0m \u001b[0;34m=\u001b[0m \u001b[0mmissed\u001b[0m\u001b[0;34m[\u001b[0m\u001b[0mind\u001b[0m\u001b[0;34m]\u001b[0m\u001b[0;34m[\u001b[0m\u001b[0;36m0\u001b[0m\u001b[0;34m]\u001b[0m\u001b[0;34m\u001b[0m\u001b[0;34m\u001b[0m\u001b[0m\n\u001b[1;32m      2\u001b[0m \u001b[0mcountries_embdgs\u001b[0m\u001b[0;34m[\u001b[0m\u001b[0mi\u001b[0m\u001b[0;34m]\u001b[0m \u001b[0;34m=\u001b[0m \u001b[0mwv\u001b[0m\u001b[0;34m[\u001b[0m\u001b[0;34m\"Wallis_Futuna\"\u001b[0m\u001b[0;34m]\u001b[0m\u001b[0;34m\u001b[0m\u001b[0;34m\u001b[0m\u001b[0m\n\u001b[0;32m----> 3\u001b[0;31m \u001b[0mprint\u001b[0m\u001b[0;34m(\u001b[0m\u001b[0mmissed\u001b[0m\u001b[0;34m.\u001b[0m\u001b[0mpop\u001b[0m\u001b[0;34m(\u001b[0m\u001b[0mind\u001b[0m\u001b[0;34m)\u001b[0m\u001b[0;34m,\u001b[0m\u001b[0;34m'\\n now :'\u001b[0m\u001b[0;34m,\u001b[0m\u001b[0mmissed\u001b[0m\u001b[0;34m[\u001b[0m\u001b[0mind\u001b[0m\u001b[0;34m]\u001b[0m\u001b[0;34m)\u001b[0m\u001b[0;34m\u001b[0m\u001b[0;34m\u001b[0m\u001b[0m\n\u001b[0m",
      "\u001b[0;31mIndexError\u001b[0m: list index out of range"
     ]
    }
   ],
   "source": [
    "i = missed[ind][0]\n",
    "countries_embdgs[i] = wv[\"Wallis_Futuna\"]\n",
    "print(missed.pop(ind),'\\n now :',missed[ind])"
   ]
  },
  {
   "cell_type": "code",
   "execution_count": 546,
   "id": "df51da3b-da99-439f-b543-5456ad05ce23",
   "metadata": {},
   "outputs": [],
   "source": [
    "np.save(arr=countries_embdgs,file='./embd_files/w2v_countries.npy')"
   ]
  },
  {
   "cell_type": "code",
   "execution_count": 548,
   "id": "fd89f2ae-8e14-47f7-bf65-5e13453d5b1b",
   "metadata": {},
   "outputs": [
    {
     "data": {
      "text/plain": [
       "249"
      ]
     },
     "execution_count": 548,
     "metadata": {},
     "output_type": "execute_result"
    }
   ],
   "source": [
    "len(np.load('./embd_files/w2v_countries.npy'))"
   ]
  },
  {
   "cell_type": "code",
   "execution_count": null,
   "id": "c62810bb-b821-4715-b33d-6524ae0cbc41",
   "metadata": {},
   "outputs": [],
   "source": []
  }
 ],
 "metadata": {
  "kernelspec": {
   "display_name": "Python 3",
   "language": "python",
   "name": "python3"
  },
  "language_info": {
   "codemirror_mode": {
    "name": "ipython",
    "version": 3
   },
   "file_extension": ".py",
   "mimetype": "text/x-python",
   "name": "python",
   "nbconvert_exporter": "python",
   "pygments_lexer": "ipython3",
   "version": "3.7.7"
  }
 },
 "nbformat": 4,
 "nbformat_minor": 5
}
