{
 "cells": [
  {
   "cell_type": "markdown",
   "metadata": {},
   "source": [
    "# **<center> Predict attributes from LMs' embeddings </center>**"
   ]
  },
  {
   "cell_type": "markdown",
   "metadata": {},
   "source": [
    "## Imports"
   ]
  },
  {
   "cell_type": "code",
   "execution_count": 1,
   "metadata": {},
   "outputs": [],
   "source": [
    "import numpy as np\n",
    "import pandas as pd\n",
    "import sys\n",
    "import matplotlib.pyplot as plt\n",
    "import geopandas as gpd\n",
    "from tqdm import tqdm"
   ]
  },
  {
   "cell_type": "code",
   "execution_count": 2,
   "metadata": {},
   "outputs": [],
   "source": [
    "import warnings"
   ]
  },
  {
   "cell_type": "code",
   "execution_count": 3,
   "metadata": {},
   "outputs": [],
   "source": [
    "from matplotlib import rc\n",
    "rc('text', usetex=True)\n",
    "\n",
    "%config Completer.use_jedi = False"
   ]
  },
  {
   "cell_type": "code",
   "execution_count": 4,
   "metadata": {},
   "outputs": [],
   "source": [
    "from scipy import stats"
   ]
  },
  {
   "cell_type": "code",
   "execution_count": 5,
   "metadata": {},
   "outputs": [],
   "source": [
    "from sklearn import linear_model\n",
    "from sklearn.svm import SVC"
   ]
  },
  {
   "cell_type": "code",
   "execution_count": 6,
   "metadata": {},
   "outputs": [],
   "source": [
    "from sklearn.neural_network import MLPClassifier,MLPRegressor\n",
    "from sklearn.model_selection import train_test_split, cross_val_score"
   ]
  },
  {
   "cell_type": "code",
   "execution_count": 7,
   "metadata": {},
   "outputs": [],
   "source": [
    "from sklearn.metrics import explained_variance_score as evs, mean_squared_error as mse, make_scorer"
   ]
  },
  {
   "cell_type": "markdown",
   "metadata": {},
   "source": [
    "## Data Loading"
   ]
  },
  {
   "cell_type": "code",
   "execution_count": 8,
   "metadata": {},
   "outputs": [],
   "source": [
    "models = ['bert','bertLarge','gpt2','roberta','mpnet']\n",
    "contexts = ['I come from', 'He lives in', 'She moved to']\n",
    "short_ctxts = ['come','lives','moved']"
   ]
  },
  {
   "cell_type": "code",
   "execution_count": 9,
   "metadata": {},
   "outputs": [
    {
     "data": {
      "text/html": [
       "<div>\n",
       "<style scoped>\n",
       "    .dataframe tbody tr th:only-of-type {\n",
       "        vertical-align: middle;\n",
       "    }\n",
       "\n",
       "    .dataframe tbody tr th {\n",
       "        vertical-align: top;\n",
       "    }\n",
       "\n",
       "    .dataframe thead th {\n",
       "        text-align: right;\n",
       "    }\n",
       "</style>\n",
       "<table border=\"1\" class=\"dataframe\">\n",
       "  <thead>\n",
       "    <tr style=\"text-align: right;\">\n",
       "      <th></th>\n",
       "      <th>Country</th>\n",
       "      <th>City</th>\n",
       "      <th>AccentCity</th>\n",
       "      <th>Population</th>\n",
       "      <th>Latitude</th>\n",
       "      <th>Longitude</th>\n",
       "    </tr>\n",
       "  </thead>\n",
       "  <tbody>\n",
       "    <tr>\n",
       "      <th>0</th>\n",
       "      <td>ae</td>\n",
       "      <td>abu dhabi</td>\n",
       "      <td>Abu Dhabi</td>\n",
       "      <td>603687.0</td>\n",
       "      <td>24.466667</td>\n",
       "      <td>54.366667</td>\n",
       "    </tr>\n",
       "    <tr>\n",
       "      <th>1</th>\n",
       "      <td>ae</td>\n",
       "      <td>dubai</td>\n",
       "      <td>Dubai</td>\n",
       "      <td>1137376.0</td>\n",
       "      <td>25.258172</td>\n",
       "      <td>55.304717</td>\n",
       "    </tr>\n",
       "    <tr>\n",
       "      <th>2</th>\n",
       "      <td>ae</td>\n",
       "      <td>sharjah</td>\n",
       "      <td>Sharjah</td>\n",
       "      <td>543942.0</td>\n",
       "      <td>25.357310</td>\n",
       "      <td>55.403304</td>\n",
       "    </tr>\n",
       "    <tr>\n",
       "      <th>3</th>\n",
       "      <td>af</td>\n",
       "      <td>baglan</td>\n",
       "      <td>Baglan</td>\n",
       "      <td>108481.0</td>\n",
       "      <td>36.130684</td>\n",
       "      <td>68.708286</td>\n",
       "    </tr>\n",
       "    <tr>\n",
       "      <th>4</th>\n",
       "      <td>af</td>\n",
       "      <td>gardez</td>\n",
       "      <td>Gardez</td>\n",
       "      <td>103732.0</td>\n",
       "      <td>33.597439</td>\n",
       "      <td>69.225922</td>\n",
       "    </tr>\n",
       "    <tr>\n",
       "      <th>...</th>\n",
       "      <td>...</td>\n",
       "      <td>...</td>\n",
       "      <td>...</td>\n",
       "      <td>...</td>\n",
       "      <td>...</td>\n",
       "      <td>...</td>\n",
       "    </tr>\n",
       "    <tr>\n",
       "      <th>3522</th>\n",
       "      <td>zw</td>\n",
       "      <td>gweru</td>\n",
       "      <td>Gweru</td>\n",
       "      <td>201879.0</td>\n",
       "      <td>-19.450000</td>\n",
       "      <td>29.816667</td>\n",
       "    </tr>\n",
       "    <tr>\n",
       "      <th>3523</th>\n",
       "      <td>zw</td>\n",
       "      <td>harare</td>\n",
       "      <td>Harare</td>\n",
       "      <td>2213701.0</td>\n",
       "      <td>-17.817778</td>\n",
       "      <td>31.044722</td>\n",
       "    </tr>\n",
       "    <tr>\n",
       "      <th>3524</th>\n",
       "      <td>zw</td>\n",
       "      <td>kadoma</td>\n",
       "      <td>Kadoma</td>\n",
       "      <td>100276.0</td>\n",
       "      <td>-18.350000</td>\n",
       "      <td>29.916667</td>\n",
       "    </tr>\n",
       "    <tr>\n",
       "      <th>3525</th>\n",
       "      <td>zw</td>\n",
       "      <td>kwekwe</td>\n",
       "      <td>Kwekwe</td>\n",
       "      <td>116332.0</td>\n",
       "      <td>-18.916667</td>\n",
       "      <td>29.816667</td>\n",
       "    </tr>\n",
       "    <tr>\n",
       "      <th>3526</th>\n",
       "      <td>zw</td>\n",
       "      <td>mutare</td>\n",
       "      <td>Mutare</td>\n",
       "      <td>253449.0</td>\n",
       "      <td>-18.966667</td>\n",
       "      <td>32.666667</td>\n",
       "    </tr>\n",
       "  </tbody>\n",
       "</table>\n",
       "<p>3527 rows × 6 columns</p>\n",
       "</div>"
      ],
      "text/plain": [
       "     Country       City AccentCity  Population   Latitude  Longitude\n",
       "0         ae  abu dhabi  Abu Dhabi    603687.0  24.466667  54.366667\n",
       "1         ae      dubai      Dubai   1137376.0  25.258172  55.304717\n",
       "2         ae    sharjah    Sharjah    543942.0  25.357310  55.403304\n",
       "3         af     baglan     Baglan    108481.0  36.130684  68.708286\n",
       "4         af     gardez     Gardez    103732.0  33.597439  69.225922\n",
       "...      ...        ...        ...         ...        ...        ...\n",
       "3522      zw      gweru      Gweru    201879.0 -19.450000  29.816667\n",
       "3523      zw     harare     Harare   2213701.0 -17.817778  31.044722\n",
       "3524      zw     kadoma     Kadoma    100276.0 -18.350000  29.916667\n",
       "3525      zw     kwekwe     Kwekwe    116332.0 -18.916667  29.816667\n",
       "3526      zw     mutare     Mutare    253449.0 -18.966667  32.666667\n",
       "\n",
       "[3527 rows x 6 columns]"
      ]
     },
     "execution_count": 9,
     "metadata": {},
     "output_type": "execute_result"
    }
   ],
   "source": [
    "cities = pd.read_csv('./csv/worldcitiespop.csv',header=0,dtype={'AccentCity':'str','Region':'object'}).dropna().drop('Region',axis=1)\n",
    "cities = cities[cities.Population>100000].reset_index(drop=True)\n",
    "cities"
   ]
  },
  {
   "cell_type": "code",
   "execution_count": 10,
   "metadata": {},
   "outputs": [
    {
     "data": {
      "text/html": [
       "<div>\n",
       "<style scoped>\n",
       "    .dataframe tbody tr th:only-of-type {\n",
       "        vertical-align: middle;\n",
       "    }\n",
       "\n",
       "    .dataframe tbody tr th {\n",
       "        vertical-align: top;\n",
       "    }\n",
       "\n",
       "    .dataframe thead th {\n",
       "        text-align: right;\n",
       "    }\n",
       "</style>\n",
       "<table border=\"1\" class=\"dataframe\">\n",
       "  <thead>\n",
       "    <tr style=\"text-align: right;\">\n",
       "      <th></th>\n",
       "      <th>Country</th>\n",
       "      <th>City</th>\n",
       "      <th>AccentCity</th>\n",
       "      <th>Population</th>\n",
       "      <th>Latitude</th>\n",
       "      <th>Longitude</th>\n",
       "    </tr>\n",
       "  </thead>\n",
       "  <tbody>\n",
       "    <tr>\n",
       "      <th>0</th>\n",
       "      <td>ae</td>\n",
       "      <td>abu dhabi</td>\n",
       "      <td>Abu Dhabi</td>\n",
       "      <td>603687.0</td>\n",
       "      <td>24.466667</td>\n",
       "      <td>54.366667</td>\n",
       "    </tr>\n",
       "    <tr>\n",
       "      <th>1</th>\n",
       "      <td>ae</td>\n",
       "      <td>dubai</td>\n",
       "      <td>Dubai</td>\n",
       "      <td>1137376.0</td>\n",
       "      <td>25.258172</td>\n",
       "      <td>55.304717</td>\n",
       "    </tr>\n",
       "    <tr>\n",
       "      <th>2</th>\n",
       "      <td>ae</td>\n",
       "      <td>sharjah</td>\n",
       "      <td>Sharjah</td>\n",
       "      <td>543942.0</td>\n",
       "      <td>25.357310</td>\n",
       "      <td>55.403304</td>\n",
       "    </tr>\n",
       "    <tr>\n",
       "      <th>8</th>\n",
       "      <td>af</td>\n",
       "      <td>kabul</td>\n",
       "      <td>Kabul</td>\n",
       "      <td>3043589.0</td>\n",
       "      <td>34.516667</td>\n",
       "      <td>69.183333</td>\n",
       "    </tr>\n",
       "    <tr>\n",
       "      <th>16</th>\n",
       "      <td>am</td>\n",
       "      <td>yerevan</td>\n",
       "      <td>Yerevan</td>\n",
       "      <td>1093499.0</td>\n",
       "      <td>40.181111</td>\n",
       "      <td>44.513611</td>\n",
       "    </tr>\n",
       "    <tr>\n",
       "      <th>...</th>\n",
       "      <td>...</td>\n",
       "      <td>...</td>\n",
       "      <td>...</td>\n",
       "      <td>...</td>\n",
       "      <td>...</td>\n",
       "      <td>...</td>\n",
       "    </tr>\n",
       "    <tr>\n",
       "      <th>3499</th>\n",
       "      <td>za</td>\n",
       "      <td>soweto</td>\n",
       "      <td>Soweto</td>\n",
       "      <td>1695094.0</td>\n",
       "      <td>-26.267812</td>\n",
       "      <td>27.858492</td>\n",
       "    </tr>\n",
       "    <tr>\n",
       "      <th>3501</th>\n",
       "      <td>za</td>\n",
       "      <td>tembisa</td>\n",
       "      <td>Tembisa</td>\n",
       "      <td>511671.0</td>\n",
       "      <td>-25.996363</td>\n",
       "      <td>28.226802</td>\n",
       "    </tr>\n",
       "    <tr>\n",
       "      <th>3517</th>\n",
       "      <td>zm</td>\n",
       "      <td>lusaka</td>\n",
       "      <td>Lusaka</td>\n",
       "      <td>1267458.0</td>\n",
       "      <td>-15.416667</td>\n",
       "      <td>28.283333</td>\n",
       "    </tr>\n",
       "    <tr>\n",
       "      <th>3520</th>\n",
       "      <td>zw</td>\n",
       "      <td>bulawayo</td>\n",
       "      <td>Bulawayo</td>\n",
       "      <td>897249.0</td>\n",
       "      <td>-20.150000</td>\n",
       "      <td>28.583333</td>\n",
       "    </tr>\n",
       "    <tr>\n",
       "      <th>3523</th>\n",
       "      <td>zw</td>\n",
       "      <td>harare</td>\n",
       "      <td>Harare</td>\n",
       "      <td>2213701.0</td>\n",
       "      <td>-17.817778</td>\n",
       "      <td>31.044722</td>\n",
       "    </tr>\n",
       "  </tbody>\n",
       "</table>\n",
       "<p>620 rows × 6 columns</p>\n",
       "</div>"
      ],
      "text/plain": [
       "     Country       City AccentCity  Population   Latitude  Longitude\n",
       "0         ae  abu dhabi  Abu Dhabi    603687.0  24.466667  54.366667\n",
       "1         ae      dubai      Dubai   1137376.0  25.258172  55.304717\n",
       "2         ae    sharjah    Sharjah    543942.0  25.357310  55.403304\n",
       "8         af      kabul      Kabul   3043589.0  34.516667  69.183333\n",
       "16        am    yerevan    Yerevan   1093499.0  40.181111  44.513611\n",
       "...      ...        ...        ...         ...        ...        ...\n",
       "3499      za     soweto     Soweto   1695094.0 -26.267812  27.858492\n",
       "3501      za    tembisa    Tembisa    511671.0 -25.996363  28.226802\n",
       "3517      zm     lusaka     Lusaka   1267458.0 -15.416667  28.283333\n",
       "3520      zw   bulawayo   Bulawayo    897249.0 -20.150000  28.583333\n",
       "3523      zw     harare     Harare   2213701.0 -17.817778  31.044722\n",
       "\n",
       "[620 rows x 6 columns]"
      ]
     },
     "execution_count": 10,
     "metadata": {},
     "output_type": "execute_result"
    }
   ],
   "source": [
    "#more than 500'000 citizens\n",
    "big_cities = cities[cities.Population > 5e5]\n",
    "big_cities"
   ]
  },
  {
   "cell_type": "code",
   "execution_count": 11,
   "metadata": {},
   "outputs": [
    {
     "data": {
      "text/html": [
       "<div>\n",
       "<style scoped>\n",
       "    .dataframe tbody tr th:only-of-type {\n",
       "        vertical-align: middle;\n",
       "    }\n",
       "\n",
       "    .dataframe tbody tr th {\n",
       "        vertical-align: top;\n",
       "    }\n",
       "\n",
       "    .dataframe thead th {\n",
       "        text-align: right;\n",
       "    }\n",
       "</style>\n",
       "<table border=\"1\" class=\"dataframe\">\n",
       "  <thead>\n",
       "    <tr style=\"text-align: right;\">\n",
       "      <th></th>\n",
       "      <th>CountryName</th>\n",
       "      <th>CapitalName</th>\n",
       "      <th>Latitude</th>\n",
       "      <th>Longitude</th>\n",
       "    </tr>\n",
       "  </thead>\n",
       "  <tbody>\n",
       "    <tr>\n",
       "      <th>0</th>\n",
       "      <td>Somaliland</td>\n",
       "      <td>Hargeisa</td>\n",
       "      <td>9.550000</td>\n",
       "      <td>44.050000</td>\n",
       "    </tr>\n",
       "    <tr>\n",
       "      <th>1</th>\n",
       "      <td>South Georgia and South Sandwich Islands</td>\n",
       "      <td>King Edward Point</td>\n",
       "      <td>-54.283333</td>\n",
       "      <td>-36.500000</td>\n",
       "    </tr>\n",
       "    <tr>\n",
       "      <th>2</th>\n",
       "      <td>French Southern and Antarctic Lands</td>\n",
       "      <td>Port-aux-Français</td>\n",
       "      <td>-49.350000</td>\n",
       "      <td>70.216667</td>\n",
       "    </tr>\n",
       "    <tr>\n",
       "      <th>3</th>\n",
       "      <td>Palestine</td>\n",
       "      <td>Jerusalem</td>\n",
       "      <td>31.766667</td>\n",
       "      <td>35.233333</td>\n",
       "    </tr>\n",
       "    <tr>\n",
       "      <th>4</th>\n",
       "      <td>Aland Islands</td>\n",
       "      <td>Mariehamn</td>\n",
       "      <td>60.116667</td>\n",
       "      <td>19.900000</td>\n",
       "    </tr>\n",
       "    <tr>\n",
       "      <th>...</th>\n",
       "      <td>...</td>\n",
       "      <td>...</td>\n",
       "      <td>...</td>\n",
       "      <td>...</td>\n",
       "    </tr>\n",
       "    <tr>\n",
       "      <th>237</th>\n",
       "      <td>Zimbabwe</td>\n",
       "      <td>Harare</td>\n",
       "      <td>-17.816667</td>\n",
       "      <td>31.033333</td>\n",
       "    </tr>\n",
       "    <tr>\n",
       "      <th>238</th>\n",
       "      <td>Northern Cyprus</td>\n",
       "      <td>North Nicosia</td>\n",
       "      <td>35.183333</td>\n",
       "      <td>33.366667</td>\n",
       "    </tr>\n",
       "    <tr>\n",
       "      <th>239</th>\n",
       "      <td>Hong Kong</td>\n",
       "      <td>Hong Kong</td>\n",
       "      <td>22.302711</td>\n",
       "      <td>114.177216</td>\n",
       "    </tr>\n",
       "    <tr>\n",
       "      <th>240</th>\n",
       "      <td>British Indian Ocean Territory</td>\n",
       "      <td>Diego Garcia</td>\n",
       "      <td>-7.300000</td>\n",
       "      <td>72.400000</td>\n",
       "    </tr>\n",
       "    <tr>\n",
       "      <th>241</th>\n",
       "      <td>Macau</td>\n",
       "      <td>Macau</td>\n",
       "      <td>22.210928</td>\n",
       "      <td>113.552971</td>\n",
       "    </tr>\n",
       "  </tbody>\n",
       "</table>\n",
       "<p>242 rows × 4 columns</p>\n",
       "</div>"
      ],
      "text/plain": [
       "                                  CountryName        CapitalName   Latitude  \\\n",
       "0                                  Somaliland           Hargeisa   9.550000   \n",
       "1    South Georgia and South Sandwich Islands  King Edward Point -54.283333   \n",
       "2         French Southern and Antarctic Lands  Port-aux-Français -49.350000   \n",
       "3                                   Palestine          Jerusalem  31.766667   \n",
       "4                               Aland Islands          Mariehamn  60.116667   \n",
       "..                                        ...                ...        ...   \n",
       "237                                  Zimbabwe             Harare -17.816667   \n",
       "238                           Northern Cyprus      North Nicosia  35.183333   \n",
       "239                                 Hong Kong          Hong Kong  22.302711   \n",
       "240            British Indian Ocean Territory       Diego Garcia  -7.300000   \n",
       "241                                     Macau              Macau  22.210928   \n",
       "\n",
       "      Longitude  \n",
       "0     44.050000  \n",
       "1    -36.500000  \n",
       "2     70.216667  \n",
       "3     35.233333  \n",
       "4     19.900000  \n",
       "..          ...  \n",
       "237   31.033333  \n",
       "238   33.366667  \n",
       "239  114.177216  \n",
       "240   72.400000  \n",
       "241  113.552971  \n",
       "\n",
       "[242 rows x 4 columns]"
      ]
     },
     "execution_count": 11,
     "metadata": {},
     "output_type": "execute_result"
    }
   ],
   "source": [
    "capitals = pd.read_csv('./csv/country-capitals.csv').drop(['ContinentName','CountryCode'], axis=1)\n",
    "capitals"
   ]
  },
  {
   "cell_type": "code",
   "execution_count": 12,
   "metadata": {},
   "outputs": [
    {
     "data": {
      "text/html": [
       "<div>\n",
       "<style scoped>\n",
       "    .dataframe tbody tr th:only-of-type {\n",
       "        vertical-align: middle;\n",
       "    }\n",
       "\n",
       "    .dataframe tbody tr th {\n",
       "        vertical-align: top;\n",
       "    }\n",
       "\n",
       "    .dataframe thead th {\n",
       "        text-align: right;\n",
       "    }\n",
       "</style>\n",
       "<table border=\"1\" class=\"dataframe\">\n",
       "  <thead>\n",
       "    <tr style=\"text-align: right;\">\n",
       "      <th></th>\n",
       "      <th>Unnamed: 0</th>\n",
       "      <th>Name</th>\n",
       "      <th>Code</th>\n",
       "      <th>Latitude</th>\n",
       "      <th>Longitude</th>\n",
       "      <th>HDI</th>\n",
       "      <th>Population</th>\n",
       "      <th>GDP</th>\n",
       "      <th>GPD per cap.</th>\n",
       "      <th>GNI per cap.</th>\n",
       "    </tr>\n",
       "  </thead>\n",
       "  <tbody>\n",
       "    <tr>\n",
       "      <th>0</th>\n",
       "      <td>0</td>\n",
       "      <td>Afghanistan</td>\n",
       "      <td>AF</td>\n",
       "      <td>33.0000</td>\n",
       "      <td>65.0</td>\n",
       "      <td>0.511</td>\n",
       "      <td>38.0</td>\n",
       "      <td>83.8</td>\n",
       "      <td>2202.0</td>\n",
       "      <td>2229.0</td>\n",
       "    </tr>\n",
       "    <tr>\n",
       "      <th>1</th>\n",
       "      <td>1</td>\n",
       "      <td>Albania</td>\n",
       "      <td>AL</td>\n",
       "      <td>41.0000</td>\n",
       "      <td>20.0</td>\n",
       "      <td>0.795</td>\n",
       "      <td>2.9</td>\n",
       "      <td>39.9</td>\n",
       "      <td>13962.0</td>\n",
       "      <td>13998.0</td>\n",
       "    </tr>\n",
       "    <tr>\n",
       "      <th>2</th>\n",
       "      <td>2</td>\n",
       "      <td>Algeria</td>\n",
       "      <td>DZ</td>\n",
       "      <td>28.0000</td>\n",
       "      <td>3.0</td>\n",
       "      <td>0.748</td>\n",
       "      <td>43.1</td>\n",
       "      <td>488.6</td>\n",
       "      <td>11350.0</td>\n",
       "      <td>11174.0</td>\n",
       "    </tr>\n",
       "    <tr>\n",
       "      <th>3</th>\n",
       "      <td>3</td>\n",
       "      <td>American Samoa</td>\n",
       "      <td>AS</td>\n",
       "      <td>-14.3333</td>\n",
       "      <td>-170.0</td>\n",
       "      <td>NaN</td>\n",
       "      <td>NaN</td>\n",
       "      <td>NaN</td>\n",
       "      <td>NaN</td>\n",
       "      <td>NaN</td>\n",
       "    </tr>\n",
       "    <tr>\n",
       "      <th>4</th>\n",
       "      <td>4</td>\n",
       "      <td>Andorra</td>\n",
       "      <td>AD</td>\n",
       "      <td>42.5000</td>\n",
       "      <td>1.5</td>\n",
       "      <td>0.868</td>\n",
       "      <td>0.1</td>\n",
       "      <td>NaN</td>\n",
       "      <td>NaN</td>\n",
       "      <td>56000.0</td>\n",
       "    </tr>\n",
       "    <tr>\n",
       "      <th>...</th>\n",
       "      <td>...</td>\n",
       "      <td>...</td>\n",
       "      <td>...</td>\n",
       "      <td>...</td>\n",
       "      <td>...</td>\n",
       "      <td>...</td>\n",
       "      <td>...</td>\n",
       "      <td>...</td>\n",
       "      <td>...</td>\n",
       "      <td>...</td>\n",
       "    </tr>\n",
       "    <tr>\n",
       "      <th>244</th>\n",
       "      <td>244</td>\n",
       "      <td>Western Sahara</td>\n",
       "      <td>EH</td>\n",
       "      <td>24.5000</td>\n",
       "      <td>-13.0</td>\n",
       "      <td>NaN</td>\n",
       "      <td>NaN</td>\n",
       "      <td>NaN</td>\n",
       "      <td>NaN</td>\n",
       "      <td>NaN</td>\n",
       "    </tr>\n",
       "    <tr>\n",
       "      <th>245</th>\n",
       "      <td>245</td>\n",
       "      <td>Yemen</td>\n",
       "      <td>YE</td>\n",
       "      <td>15.0000</td>\n",
       "      <td>48.0</td>\n",
       "      <td>0.470</td>\n",
       "      <td>29.2</td>\n",
       "      <td>NaN</td>\n",
       "      <td>NaN</td>\n",
       "      <td>1594.0</td>\n",
       "    </tr>\n",
       "    <tr>\n",
       "      <th>246</th>\n",
       "      <td>246</td>\n",
       "      <td>Zambia</td>\n",
       "      <td>ZM</td>\n",
       "      <td>-15.0000</td>\n",
       "      <td>30.0</td>\n",
       "      <td>0.584</td>\n",
       "      <td>17.9</td>\n",
       "      <td>62.1</td>\n",
       "      <td>3479.0</td>\n",
       "      <td>3326.0</td>\n",
       "    </tr>\n",
       "    <tr>\n",
       "      <th>247</th>\n",
       "      <td>247</td>\n",
       "      <td>Zimbabwe</td>\n",
       "      <td>ZW</td>\n",
       "      <td>-20.0000</td>\n",
       "      <td>30.0</td>\n",
       "      <td>0.571</td>\n",
       "      <td>14.6</td>\n",
       "      <td>41.5</td>\n",
       "      <td>2836.0</td>\n",
       "      <td>2666.0</td>\n",
       "    </tr>\n",
       "    <tr>\n",
       "      <th>248</th>\n",
       "      <td>248</td>\n",
       "      <td>Åland Islands</td>\n",
       "      <td>AX</td>\n",
       "      <td>60.1500</td>\n",
       "      <td>20.0</td>\n",
       "      <td>NaN</td>\n",
       "      <td>NaN</td>\n",
       "      <td>NaN</td>\n",
       "      <td>NaN</td>\n",
       "      <td>NaN</td>\n",
       "    </tr>\n",
       "  </tbody>\n",
       "</table>\n",
       "<p>249 rows × 10 columns</p>\n",
       "</div>"
      ],
      "text/plain": [
       "     Unnamed: 0            Name Code  Latitude  Longitude    HDI  Population  \\\n",
       "0             0     Afghanistan   AF   33.0000       65.0  0.511        38.0   \n",
       "1             1         Albania   AL   41.0000       20.0  0.795         2.9   \n",
       "2             2         Algeria   DZ   28.0000        3.0  0.748        43.1   \n",
       "3             3  American Samoa   AS  -14.3333     -170.0    NaN         NaN   \n",
       "4             4         Andorra   AD   42.5000        1.5  0.868         0.1   \n",
       "..          ...             ...  ...       ...        ...    ...         ...   \n",
       "244         244  Western Sahara   EH   24.5000      -13.0    NaN         NaN   \n",
       "245         245           Yemen   YE   15.0000       48.0  0.470        29.2   \n",
       "246         246          Zambia   ZM  -15.0000       30.0  0.584        17.9   \n",
       "247         247        Zimbabwe   ZW  -20.0000       30.0  0.571        14.6   \n",
       "248         248   Åland Islands   AX   60.1500       20.0    NaN         NaN   \n",
       "\n",
       "       GDP  GPD per cap.  GNI per cap.  \n",
       "0     83.8        2202.0        2229.0  \n",
       "1     39.9       13962.0       13998.0  \n",
       "2    488.6       11350.0       11174.0  \n",
       "3      NaN           NaN           NaN  \n",
       "4      NaN           NaN       56000.0  \n",
       "..     ...           ...           ...  \n",
       "244    NaN           NaN           NaN  \n",
       "245    NaN           NaN        1594.0  \n",
       "246   62.1        3479.0        3326.0  \n",
       "247   41.5        2836.0        2666.0  \n",
       "248    NaN           NaN           NaN  \n",
       "\n",
       "[249 rows x 10 columns]"
      ]
     },
     "execution_count": 12,
     "metadata": {},
     "output_type": "execute_result"
    }
   ],
   "source": [
    "countries = pd.read_csv('./csv/countries_extended.csv',keep_default_na=False,na_values=['','..'])\n",
    "countries"
   ]
  },
  {
   "cell_type": "code",
   "execution_count": 13,
   "metadata": {},
   "outputs": [],
   "source": [
    "datasets = {model_name : {ctx : pd.DataFrame(np.load('embd_files/'+model_name+'_'+ctx+'_cities.npy')) for ctx in short_ctxts} for model_name in models}\n",
    "datasets_capitals = {model_name : {ctx : pd.DataFrame(np.load('embd_files/'+model_name+'_'+ctx+'_capitals.npy')) for ctx in short_ctxts} for model_name in models}\n",
    "datasets_countries = {model_name : {ctx : pd.DataFrame(np.load('embd_files/4layers_'+model_name+'_'+ctx+'_countries.npy')) for ctx in short_ctxts} for model_name in models}\n",
    "contexts.append('average of 3')\n",
    "short_ctxts.append('avg')\n",
    "for model_name in models :\n",
    "    concat = pd.concat( (datasets[model_name]['come'],datasets[model_name]['lives'],datasets[model_name]['moved']) )\n",
    "    datasets[model_name]['avg'] = concat.groupby(concat.index).mean()\n",
    "\n",
    "for model_name in models :\n",
    "    concat = pd.concat( (datasets_capitals[model_name]['come'],datasets_capitals[model_name]['lives'],datasets_capitals[model_name]['moved']) )\n",
    "    datasets_capitals[model_name]['avg'] = concat.groupby(concat.index).mean()\n",
    "\n",
    "for model_name in models :\n",
    "    concat = pd.concat( (datasets_countries[model_name]['come'],datasets_countries[model_name]['lives'],datasets_countries[model_name]['moved']) )\n",
    "    datasets_countries[model_name]['avg'] = concat.groupby(concat.index).mean()\n"
   ]
  },
  {
   "cell_type": "code",
   "execution_count": 14,
   "metadata": {
    "tags": []
   },
   "outputs": [],
   "source": [
    "borders = dict()\n",
    "DF_borders = pd.read_csv('./csv/geodatasource_country_borders.csv',keep_default_na=False)\n",
    "for row in DF_borders.iterrows():\n",
    "    relation = row[1]\n",
    "    if relation.country_code in borders:\n",
    "        borders[relation.country_code].append(relation.country_border_code)\n",
    "    else:\n",
    "        if relation.country_border_code :    \n",
    "            borders[relation.country_code] = [relation.country_border_code]\n",
    "        else:\n",
    "            borders[relation.country_code] = []"
   ]
  },
  {
   "cell_type": "markdown",
   "metadata": {},
   "source": [
    "## Tools and functions"
   ]
  },
  {
   "cell_type": "code",
   "execution_count": 15,
   "metadata": {},
   "outputs": [],
   "source": [
    "def get_country_index(country):\n",
    "    return countries[countries.Code == country].index[0]"
   ]
  },
  {
   "cell_type": "code",
   "execution_count": 16,
   "metadata": {},
   "outputs": [],
   "source": [
    "def get_embdgs(country1,country2,embeddings):\n",
    "    i1 = get_country_index(country1)\n",
    "    i2 = get_country_index(country2)\n",
    "    return (embeddings.loc[i1],embeddings.loc[i2])"
   ]
  },
  {
   "cell_type": "code",
   "execution_count": 17,
   "metadata": {},
   "outputs": [],
   "source": [
    "def find_non_borders(n,rng=np.random.default_rng(seed=0)):\n",
    "    countries_list = countries.Code.unique()\n",
    "    pairs_list = []\n",
    "    while len(pairs_list)<n:\n",
    "        c1,c2 = rng.choice(countries_list,2)\n",
    "        if c2 in borders[c1]:\n",
    "            pass\n",
    "        else:\n",
    "            pairs_list.append((c1,c2))\n",
    "    return pairs_list"
   ]
  },
  {
   "cell_type": "code",
   "execution_count": 18,
   "metadata": {},
   "outputs": [],
   "source": [
    "def create_border_dataset(embdgs,non_border_size=500,out_pairs=False,seed=0):\n",
    "    rng = np.random.default_rng(seed=seed)\n",
    "    non_borders_pairs = find_non_borders(non_border_size,rng)\n",
    "    nb_embdgs = np.empty( (non_border_size,2,embdgs.shape[1]), dtype='float64' )\n",
    "    for i,pair in tqdm(enumerate(non_borders_pairs),total=len(non_borders_pairs),desc='non border pairs',file=sys.stdout):\n",
    "        c1,c2 = pair\n",
    "        nb_embdgs[i] = get_embdgs(c1,c2,embdgs)\n",
    "    nb_y = np.zeros(non_border_size,dtype='int32')\n",
    "    borders_pairs = [ (c1,c2) for c1 in borders.keys() for c2 in borders[c1]]\n",
    "    b_embdgs = np.empty( (len(borders_pairs),2,embdgs.shape[1]), dtype='float64' )\n",
    "    for i,pair in tqdm(enumerate(borders_pairs),total=len(borders_pairs),desc='border pairs',file=sys.stdout):\n",
    "        c1,c2 = pair\n",
    "        b_embdgs[i] = get_embdgs(c1,c2,embdgs)\n",
    "    b_y = np.ones(len(borders_pairs),dtype='int32')\n",
    "    X = np.concatenate((nb_embdgs,b_embdgs))\n",
    "    y = np.concatenate((nb_y,b_y))\n",
    "    pairs = np.array(non_borders_pairs+borders_pairs)\n",
    "    shuffle_order = rng.permutation(len(y))\n",
    "    pairs = pairs[shuffle_order]\n",
    "    X = X[shuffle_order]\n",
    "    y = y[shuffle_order]\n",
    "    if out_pairs:\n",
    "        return (X,y,pairs)\n",
    "    else:\n",
    "        return (X,y)"
   ]
  },
  {
   "cell_type": "code",
   "execution_count": 19,
   "metadata": {},
   "outputs": [],
   "source": [
    "def create_SameCountry_dataset(embeddings,total_size=1000,out_pairs=False,seed=0):\n",
    "    X = np.empty((total_size,2,embeddings.shape[1]))\n",
    "    y = np.empty(total_size)\n",
    "    pairs=[]\n",
    "    rng = np.random.default_rng(seed=seed)\n",
    "    N = len(cities)\n",
    "    \n",
    "    for i in tqdm(range(0,total_size,2),desc='dataset creation',file=sys.stdout):\n",
    "        #Same Country\n",
    "        ind1 = rng.integers(N)\n",
    "        c1 = cities.loc[ind1]\n",
    "        x1 = embeddings.loc[ind1]\n",
    "        searching = True\n",
    "        possible_inds = cities[cities.Country==c1.Country].index\n",
    "        ind2 = rng.choice(possible_inds)\n",
    "        c2 = cities.loc[ind2]\n",
    "        x2 = embeddings.loc[ind2]\n",
    "        X[i] = (x1,x2)\n",
    "        y[i]=1\n",
    "        pairs.append( (c1.AccentCity,c2.AccentCity) )\n",
    "                \n",
    "        #Different Countries\n",
    "        ind1 = rng.integers(N)\n",
    "        c1 = cities.loc[ind1]\n",
    "        x1 = embeddings.loc[ind1]\n",
    "        searching = True\n",
    "        impossible_inds = cities[cities.Country==c1.Country].index\n",
    "        searching=True\n",
    "        while searching:\n",
    "            ind2 = rng.integers(N)\n",
    "            if ind2 not in impossible_inds:\n",
    "                searching=False\n",
    "        c2 = cities.loc[ind2]\n",
    "        x2 = embeddings.loc[ind2]\n",
    "        X[i+1] = (x1,x2)\n",
    "        y[i+1]=0\n",
    "        pairs.append( (c1.AccentCity,c2.AccentCity) )\n",
    "    \n",
    "    pairs = np.array(pairs)\n",
    "    shuffle_order = rng.permutation(len(y))\n",
    "    pairs = pairs[shuffle_order]\n",
    "    X = X[shuffle_order]\n",
    "    y = y[shuffle_order]\n",
    "    if out_pairs:\n",
    "        return (X,y,pairs)\n",
    "    else:\n",
    "        return (X,y)"
   ]
  },
  {
   "cell_type": "code",
   "execution_count": 20,
   "metadata": {},
   "outputs": [],
   "source": [
    "def create_population_dataset(embeddings,total_size=1000):\n",
    "    X = embeddings\n",
    "    y = cities.Population\n",
    "    return (X,y)"
   ]
  },
  {
   "cell_type": "code",
   "execution_count": 21,
   "metadata": {},
   "outputs": [],
   "source": [
    "def create_CountryProps_dataset(embeddings,total_size=1000,attribute='Population'):\n",
    "    X = embeddings\n",
    "    y = countries[attribute]\n",
    "    X = X[y.notna()]\n",
    "    y = y[y.notna()]    \n",
    "    return (X,y)"
   ]
  },
  {
   "cell_type": "code",
   "execution_count": 22,
   "metadata": {},
   "outputs": [],
   "source": [
    "def compare_models(datasets_dict,model,f_dataset,model_kwargs=dict(),f_dataset_kwargs=dict(),ctx='avg',LMs=['bert','bertLarge'],\n",
    "                   n_test=10,seed=0,return_scores=False,plot_scores=True,fig_name='',fig_title='',y_label='',ylims=None,metrics=None,crossvalid=False):\n",
    "    if not(return_scores or plot_scores):\n",
    "        raise ValueError('Please make a useful call of this function and either return scores, plot them or both.')\n",
    "    scores = np.empty((2,len(LMs)))\n",
    "    for i,lm in enumerate(LMs):\n",
    "        rng = np.random.default_rng(seed=seed)\n",
    "        print(lm+' -----------------------')\n",
    "        #get datasets\n",
    "        embeddings = datasets_dict[lm][ctx]\n",
    "        X,y = f_dataset(embeddings,**f_dataset_kwargs)\n",
    "        if len(X.shape)!=2:\n",
    "            X = X.reshape(X.shape[0],np.prod(X.shape[1:]))\n",
    "        #normal task\n",
    "        r_state = rng.integers(1000)\n",
    "        if crossvalid:\n",
    "            X_train, X_test, y_train, y_test = train_test_split(X,y,test_size=0.2,random_state=r_state)\n",
    "            task_model = model(**model_kwargs)\n",
    "            task_model.fit(X_train,y_train)\n",
    "            if metrics is None :\n",
    "                scores[0][i] = task_model.score(X_test,y_test).round(4)\n",
    "            else:\n",
    "                y_preds = task_model.predict(X_test)\n",
    "                scores[0][i] = metrics(y_test,y_preds).round(4)\n",
    "        else:\n",
    "            scores[0][i] = cross_val_score(model(**model_kwargs), X, y, cv=n_test,scoring=make_scorer(metrics),n_jobs=-1).mean().round(4)\n",
    "        \n",
    "                                \n",
    "        #control task\n",
    "        random_scores = np.empty(n_test)\n",
    "        for j in tqdm(range(n_test),desc='random control',total=n_test,file=sys.stdout):\n",
    "            y_rand = rng.permutation(y)\n",
    "            r_state = rng.integers(1000)\n",
    "            X_rand_train, X_rand_test, y_rand_train, y_rand_test = train_test_split(X,y_rand,test_size=0.2,random_state=r_state)\n",
    "            task_model = model(**model_kwargs)\n",
    "            task_model.fit(X_rand_train,y_rand_train)\n",
    "            if metrics is None:\n",
    "                random_scores[j]= task_model.score(X_rand_test,y_rand_test)\n",
    "            else:\n",
    "                y_rand_preds = task_model.predict(X_rand_test)\n",
    "                random_scores[j]= metrics(y_rand_test,y_rand_preds)\n",
    "        scores[1][i] = random_scores.mean().round(4)\n",
    "        \n",
    "    if plot_scores:\n",
    "\n",
    "        locs = np.arange(len(LMs))  # label locations\n",
    "        width = 0.35  # the width of the bars\n",
    "\n",
    "\n",
    "        fig, ax = plt.subplots(figsize=(15,10))\n",
    "        fig.set_facecolor('white')\n",
    "        rect1 = ax.bar(locs -0.5*width, scores[0], width, label='Task score')\n",
    "        rect2 = ax.bar(locs +0.5*width, scores[1], width, label='Random control task score')\n",
    "        # Add some text for labels, title and custom x-axis tick labels, etc.\n",
    "        if y_label:\n",
    "            ax.set_ylabel(y_label, fontdict = {'fontsize' : 20})\n",
    "        if ylims is not None:\n",
    "            plt.ylim(ylims)\n",
    "        if fig_title:\n",
    "            ax.set_title(fig_title, fontdict = {'fontsize' : 20})\n",
    "        \n",
    "        \n",
    "        ax.set_xticks(locs)\n",
    "        ax.set_xticklabels(LMs, fontdict = {'fontsize' : 20})\n",
    "        ax.legend()\n",
    "\n",
    "        fig.tight_layout()\n",
    "        \n",
    "        if fig_name:\n",
    "            plt.savefig('img/'+fig_name,dpi=200, facecolor=fig.get_facecolor())\n",
    "        plt.show()\n",
    "    if return_scores:\n",
    "        return scores"
   ]
  },
  {
   "cell_type": "markdown",
   "metadata": {},
   "source": [
    "## Predicting country borders from embedding"
   ]
  },
  {
   "cell_type": "code",
   "execution_count": 20,
   "metadata": {},
   "outputs": [],
   "source": [
    "model = 'bertLarge'\n",
    "ctx = 'avg'\n",
    "embeddings = datasets_countries[model][ctx]"
   ]
  },
  {
   "cell_type": "code",
   "execution_count": 21,
   "metadata": {},
   "outputs": [
    {
     "name": "stderr",
     "output_type": "stream",
     "text": [
      "non border pairs: 100%|██████████| 500/500 [00:00<00:00, 665.03it/s]\n",
      "border pairs: 100%|██████████| 642/642 [00:00<00:00, 672.98it/s]\n"
     ]
    }
   ],
   "source": [
    "X,y,pairs = create_border_dataset(embeddings,non_border_size=500,out_pairs=True)"
   ]
  },
  {
   "cell_type": "code",
   "execution_count": 22,
   "metadata": {},
   "outputs": [],
   "source": [
    "X_flat = X.reshape((X.shape[0],X.shape[1]*X.shape[2]))\n",
    "X_train, X_test, y_train, y_test = train_test_split(X_flat,y,test_size=0.2)"
   ]
  },
  {
   "cell_type": "code",
   "execution_count": 23,
   "metadata": {},
   "outputs": [
    {
     "data": {
      "text/plain": [
       "0.8602620087336245"
      ]
     },
     "execution_count": 23,
     "metadata": {},
     "output_type": "execute_result"
    }
   ],
   "source": [
    "mlp = MLPClassifier(max_iter=500,random_state=0)\n",
    "mlp.fit(X_train,y_train)\n",
    "mlp.score(X_test,y_test)"
   ]
  },
  {
   "cell_type": "code",
   "execution_count": 24,
   "metadata": {},
   "outputs": [
    {
     "data": {
      "text/plain": [
       "0.777292576419214"
      ]
     },
     "execution_count": 24,
     "metadata": {},
     "output_type": "execute_result"
    }
   ],
   "source": [
    "svm = SVC(kernel='rbf',max_iter=10000)\n",
    "svm.fit(X_train,y_train)\n",
    "svm.score(X_test,y_test)"
   ]
  },
  {
   "cell_type": "code",
   "execution_count": 25,
   "metadata": {},
   "outputs": [
    {
     "name": "stderr",
     "output_type": "stream",
     "text": [
      "Random control: 100%|██████████| 10/10 [01:08<00:00,  6.86s/it]"
     ]
    },
    {
     "name": "stdout",
     "output_type": "stream",
     "text": [
      "random control score : 51.27\n"
     ]
    },
    {
     "name": "stderr",
     "output_type": "stream",
     "text": [
      "\n"
     ]
    }
   ],
   "source": [
    "#Control task\n",
    "\n",
    "n_test = 10\n",
    "random_scores = np.empty(n_test)\n",
    "rng = np.random.default_rng(seed=0)\n",
    "for i in tqdm(range(n_test),desc='Random control',total=n_test,file=sys.stdout):\n",
    "    y_rand = rng.permutation(y)\n",
    "    X_rand_train, X_rand_test, y_rand_train, y_rand_test = train_test_split(X_flat,y_rand,test_size=0.2)\n",
    "    clf_r = MLPClassifier(max_iter=500)\n",
    "    clf_r.fit(X_rand_train,y_rand_train)\n",
    "    rand_preds = clf_r.predict(X_rand_test)\n",
    "    random_scores[i]=sum(rand_preds==y_rand_test)/len(rand_preds)\n",
    "print('random control score : '+str(random_scores.mean().round(4)*100))"
   ]
  },
  {
   "cell_type": "code",
   "execution_count": 70,
   "metadata": {},
   "outputs": [
    {
     "name": "stdout",
     "output_type": "stream",
     "text": [
      "bert -----------------------\n",
      "non border pairs: 100%|██████████| 500/500 [00:00<00:00, 1053.78it/s]\n",
      "border pairs: 100%|██████████| 642/642 [00:00<00:00, 1125.46it/s]\n",
      "random control: 100%|██████████| 10/10 [01:21<00:00,  8.18s/it]\n",
      "bertLarge -----------------------\n",
      "non border pairs: 100%|██████████| 500/500 [00:00<00:00, 946.03it/s]\n",
      "border pairs: 100%|██████████| 642/642 [00:00<00:00, 1062.24it/s]\n",
      "random control: 100%|██████████| 10/10 [01:05<00:00,  6.54s/it]\n",
      "gpt2 -----------------------\n",
      "non border pairs: 100%|██████████| 500/500 [00:00<00:00, 1008.89it/s]\n",
      "border pairs: 100%|██████████| 642/642 [00:00<00:00, 1093.68it/s]\n",
      "random control: 100%|██████████| 10/10 [01:53<00:00, 11.36s/it]\n",
      "roberta -----------------------\n",
      "non border pairs: 100%|██████████| 500/500 [00:00<00:00, 939.96it/s] \n",
      "border pairs: 100%|██████████| 642/642 [00:00<00:00, 1106.53it/s]\n",
      "random control: 100%|██████████| 10/10 [01:51<00:00, 11.13s/it]\n"
     ]
    },
    {
     "data": {
      "image/png": "[encoded data removed]",
      "text/plain": [
       "<Figure size 1080x720 with 1 Axes>"
      ]
     },
     "metadata": {},
     "output_type": "display_data"
    }
   ],
   "source": [
    "compare_models(model=MLPClassifier,model_kwargs={'max_iter':1000,'solver':'adam'},\n",
    "               datasets_dict=datasets_countries\n",
    "               f_dataset=create_border_dataset,f_dataset_kwargs={'non_border_size':500},\n",
    "               LMs=['bert','bertLarge','gpt2','roberta'],ylims=(0,1),y_label='Accuracy',\n",
    "               fig_title='Accuracy for borders prediction using MLP classifier',\n",
    "              fig_name='4layers_borders_mlp.png')"
   ]
  },
  {
   "cell_type": "markdown",
   "metadata": {},
   "source": [
    "## Predicting some country indexes and attributes"
   ]
  },
  {
   "cell_type": "code",
   "execution_count": 58,
   "metadata": {},
   "outputs": [
    {
     "data": {
      "text/plain": [
       "0      0.511\n",
       "1      0.795\n",
       "2      0.748\n",
       "4      0.868\n",
       "5      0.581\n",
       "       ...  \n",
       "239    0.711\n",
       "240    0.704\n",
       "245    0.470\n",
       "246    0.584\n",
       "247    0.571\n",
       "Name: HDI, Length: 189, dtype: float64"
      ]
     },
     "execution_count": 58,
     "metadata": {},
     "output_type": "execute_result"
    }
   ],
   "source": [
    "embeddings = datasets_countries['bertLarge']['avg']\n",
    "X,y = create_CountryProps_dataset(embeddings,total_size=1000,attribute='HDI')\n",
    "y"
   ]
  },
  {
   "cell_type": "code",
   "execution_count": 65,
   "metadata": {},
   "outputs": [
    {
     "data": {
      "text/plain": [
       "-0.6262683430649767"
      ]
     },
     "execution_count": 65,
     "metadata": {},
     "output_type": "execute_result"
    }
   ],
   "source": [
    "reg = MLPRegressor(max_iter=1000,solver='adam')\n",
    "X_train, X_test, y_train, y_test = train_test_split(X,y,test_size=0.2)\n",
    "reg.fit(X_train,y_train)\n",
    "evs(reg.predict(X_test),y_test)"
   ]
  },
  {
   "cell_type": "markdown",
   "metadata": {},
   "source": [
    "**PREDICTING HUMAN DEV. INDEX**"
   ]
  },
  {
   "cell_type": "code",
   "execution_count": 23,
   "metadata": {},
   "outputs": [
    {
     "name": "stdout",
     "output_type": "stream",
     "text": [
      "bert -----------------------\n",
      "random control: 100%|███████████████████████████| 10/10 [00:41<00:00,  4.18s/it]\n",
      "bertLarge -----------------------\n",
      "random control: 100%|███████████████████████████| 10/10 [01:05<00:00,  6.54s/it]\n",
      "gpt2 -----------------------\n",
      "random control: 100%|███████████████████████████| 10/10 [00:28<00:00,  2.88s/it]\n",
      "roberta -----------------------\n",
      "random control: 100%|███████████████████████████| 10/10 [00:42<00:00,  4.26s/it]\n"
     ]
    },
    {
     "data": {
      "image/png": "[encoded data removed]",
      "text/plain": [
       "<Figure size 1080x720 with 1 Axes>"
      ]
     },
     "metadata": {},
     "output_type": "display_data"
    },
    {
     "name": "stderr",
     "output_type": "stream",
     "text": [
      "/home/bastien/anaconda3/envs/work/lib/python3.7/site-packages/sklearn/neural_network/_multilayer_perceptron.py:617: ConvergenceWarning: Stochastic Optimizer: Maximum iterations (1000) reached and the optimization hasn't converged yet.\n",
      "  % self.max_iter, ConvergenceWarning)\n",
      "/home/bastien/anaconda3/envs/work/lib/python3.7/site-packages/sklearn/neural_network/_multilayer_perceptron.py:617: ConvergenceWarning: Stochastic Optimizer: Maximum iterations (1000) reached and the optimization hasn't converged yet.\n",
      "  % self.max_iter, ConvergenceWarning)\n",
      "/home/bastien/anaconda3/envs/work/lib/python3.7/site-packages/sklearn/neural_network/_multilayer_perceptron.py:617: ConvergenceWarning: Stochastic Optimizer: Maximum iterations (1000) reached and the optimization hasn't converged yet.\n",
      "  % self.max_iter, ConvergenceWarning)\n",
      "/home/bastien/anaconda3/envs/work/lib/python3.7/site-packages/sklearn/neural_network/_multilayer_perceptron.py:617: ConvergenceWarning: Stochastic Optimizer: Maximum iterations (1000) reached and the optimization hasn't converged yet.\n",
      "  % self.max_iter, ConvergenceWarning)\n",
      "/home/bastien/anaconda3/envs/work/lib/python3.7/site-packages/sklearn/neural_network/_multilayer_perceptron.py:617: ConvergenceWarning: Stochastic Optimizer: Maximum iterations (1000) reached and the optimization hasn't converged yet.\n",
      "  % self.max_iter, ConvergenceWarning)\n",
      "/home/bastien/anaconda3/envs/work/lib/python3.7/site-packages/sklearn/neural_network/_multilayer_perceptron.py:617: ConvergenceWarning: Stochastic Optimizer: Maximum iterations (1000) reached and the optimization hasn't converged yet.\n",
      "  % self.max_iter, ConvergenceWarning)\n",
      "/home/bastien/anaconda3/envs/work/lib/python3.7/site-packages/sklearn/neural_network/_multilayer_perceptron.py:617: ConvergenceWarning: Stochastic Optimizer: Maximum iterations (1000) reached and the optimization hasn't converged yet.\n",
      "  % self.max_iter, ConvergenceWarning)\n",
      "/home/bastien/anaconda3/envs/work/lib/python3.7/site-packages/sklearn/neural_network/_multilayer_perceptron.py:617: ConvergenceWarning: Stochastic Optimizer: Maximum iterations (1000) reached and the optimization hasn't converged yet.\n",
      "  % self.max_iter, ConvergenceWarning)\n",
      "/home/bastien/anaconda3/envs/work/lib/python3.7/site-packages/sklearn/neural_network/_multilayer_perceptron.py:617: ConvergenceWarning: Stochastic Optimizer: Maximum iterations (1000) reached and the optimization hasn't converged yet.\n",
      "  % self.max_iter, ConvergenceWarning)\n",
      "/home/bastien/anaconda3/envs/work/lib/python3.7/site-packages/sklearn/neural_network/_multilayer_perceptron.py:617: ConvergenceWarning: Stochastic Optimizer: Maximum iterations (1000) reached and the optimization hasn't converged yet.\n",
      "  % self.max_iter, ConvergenceWarning)\n",
      "/home/bastien/anaconda3/envs/work/lib/python3.7/site-packages/sklearn/neural_network/_multilayer_perceptron.py:617: ConvergenceWarning: Stochastic Optimizer: Maximum iterations (1000) reached and the optimization hasn't converged yet.\n",
      "  % self.max_iter, ConvergenceWarning)\n",
      "/home/bastien/anaconda3/envs/work/lib/python3.7/site-packages/sklearn/neural_network/_multilayer_perceptron.py:617: ConvergenceWarning: Stochastic Optimizer: Maximum iterations (1000) reached and the optimization hasn't converged yet.\n",
      "  % self.max_iter, ConvergenceWarning)\n",
      "/home/bastien/anaconda3/envs/work/lib/python3.7/site-packages/sklearn/neural_network/_multilayer_perceptron.py:617: ConvergenceWarning: Stochastic Optimizer: Maximum iterations (1000) reached and the optimization hasn't converged yet.\n",
      "  % self.max_iter, ConvergenceWarning)\n",
      "/home/bastien/anaconda3/envs/work/lib/python3.7/site-packages/sklearn/neural_network/_multilayer_perceptron.py:617: ConvergenceWarning: Stochastic Optimizer: Maximum iterations (1000) reached and the optimization hasn't converged yet.\n",
      "  % self.max_iter, ConvergenceWarning)\n",
      "/home/bastien/anaconda3/envs/work/lib/python3.7/site-packages/sklearn/neural_network/_multilayer_perceptron.py:617: ConvergenceWarning: Stochastic Optimizer: Maximum iterations (1000) reached and the optimization hasn't converged yet.\n",
      "  % self.max_iter, ConvergenceWarning)\n",
      "/home/bastien/anaconda3/envs/work/lib/python3.7/site-packages/sklearn/neural_network/_multilayer_perceptron.py:617: ConvergenceWarning: Stochastic Optimizer: Maximum iterations (1000) reached and the optimization hasn't converged yet.\n",
      "  % self.max_iter, ConvergenceWarning)\n",
      "/home/bastien/anaconda3/envs/work/lib/python3.7/site-packages/sklearn/neural_network/_multilayer_perceptron.py:617: ConvergenceWarning: Stochastic Optimizer: Maximum iterations (1000) reached and the optimization hasn't converged yet.\n",
      "  % self.max_iter, ConvergenceWarning)\n",
      "/home/bastien/anaconda3/envs/work/lib/python3.7/site-packages/sklearn/neural_network/_multilayer_perceptron.py:617: ConvergenceWarning: Stochastic Optimizer: Maximum iterations (1000) reached and the optimization hasn't converged yet.\n",
      "  % self.max_iter, ConvergenceWarning)\n",
      "/home/bastien/anaconda3/envs/work/lib/python3.7/site-packages/sklearn/neural_network/_multilayer_perceptron.py:617: ConvergenceWarning: Stochastic Optimizer: Maximum iterations (1000) reached and the optimization hasn't converged yet.\n",
      "  % self.max_iter, ConvergenceWarning)\n",
      "/home/bastien/anaconda3/envs/work/lib/python3.7/site-packages/sklearn/neural_network/_multilayer_perceptron.py:617: ConvergenceWarning: Stochastic Optimizer: Maximum iterations (1000) reached and the optimization hasn't converged yet.\n",
      "  % self.max_iter, ConvergenceWarning)\n",
      "/home/bastien/anaconda3/envs/work/lib/python3.7/site-packages/sklearn/neural_network/_multilayer_perceptron.py:617: ConvergenceWarning: Stochastic Optimizer: Maximum iterations (1000) reached and the optimization hasn't converged yet.\n",
      "  % self.max_iter, ConvergenceWarning)\n",
      "/home/bastien/anaconda3/envs/work/lib/python3.7/site-packages/sklearn/neural_network/_multilayer_perceptron.py:617: ConvergenceWarning: Stochastic Optimizer: Maximum iterations (1000) reached and the optimization hasn't converged yet.\n",
      "  % self.max_iter, ConvergenceWarning)\n",
      "/home/bastien/anaconda3/envs/work/lib/python3.7/site-packages/sklearn/neural_network/_multilayer_perceptron.py:617: ConvergenceWarning: Stochastic Optimizer: Maximum iterations (1000) reached and the optimization hasn't converged yet.\n",
      "  % self.max_iter, ConvergenceWarning)\n",
      "/home/bastien/anaconda3/envs/work/lib/python3.7/site-packages/sklearn/neural_network/_multilayer_perceptron.py:617: ConvergenceWarning: Stochastic Optimizer: Maximum iterations (1000) reached and the optimization hasn't converged yet.\n",
      "  % self.max_iter, ConvergenceWarning)\n",
      "/home/bastien/anaconda3/envs/work/lib/python3.7/site-packages/sklearn/neural_network/_multilayer_perceptron.py:617: ConvergenceWarning: Stochastic Optimizer: Maximum iterations (1000) reached and the optimization hasn't converged yet.\n",
      "  % self.max_iter, ConvergenceWarning)\n",
      "/home/bastien/anaconda3/envs/work/lib/python3.7/site-packages/sklearn/neural_network/_multilayer_perceptron.py:617: ConvergenceWarning: Stochastic Optimizer: Maximum iterations (1000) reached and the optimization hasn't converged yet.\n",
      "  % self.max_iter, ConvergenceWarning)\n",
      "/home/bastien/anaconda3/envs/work/lib/python3.7/site-packages/sklearn/neural_network/_multilayer_perceptron.py:617: ConvergenceWarning: Stochastic Optimizer: Maximum iterations (1000) reached and the optimization hasn't converged yet.\n",
      "  % self.max_iter, ConvergenceWarning)\n",
      "/home/bastien/anaconda3/envs/work/lib/python3.7/site-packages/sklearn/neural_network/_multilayer_perceptron.py:617: ConvergenceWarning: Stochastic Optimizer: Maximum iterations (1000) reached and the optimization hasn't converged yet.\n",
      "  % self.max_iter, ConvergenceWarning)\n",
      "/home/bastien/anaconda3/envs/work/lib/python3.7/site-packages/sklearn/neural_network/_multilayer_perceptron.py:617: ConvergenceWarning: Stochastic Optimizer: Maximum iterations (1000) reached and the optimization hasn't converged yet.\n",
      "  % self.max_iter, ConvergenceWarning)\n",
      "/home/bastien/anaconda3/envs/work/lib/python3.7/site-packages/sklearn/neural_network/_multilayer_perceptron.py:617: ConvergenceWarning: Stochastic Optimizer: Maximum iterations (1000) reached and the optimization hasn't converged yet.\n",
      "  % self.max_iter, ConvergenceWarning)\n"
     ]
    }
   ],
   "source": [
    "attr = 'Population'\n",
    "warnings.filterwarnings(\"ignore\")\n",
    "compare_models(model=MLPRegressor,model_kwargs={'max_iter':1000,'random_state':0},\n",
    "               datasets_dict=datasets_countries,\n",
    "               f_dataset=create_CountryProps_dataset,f_dataset_kwargs={'total_size':1000,'attribute':attr},\n",
    "               LMs=['bert','bertLarge','gpt2','roberta'],y_label='Explained Variance Score',\n",
    "               fig_title='Explained Variance for countries\\''+attr+' prediction using MLP regressor',\n",
    "              fig_name='4layers_countries_'+attr.lower()+'.png',n_test=10,metrics=evs,seed=0,return_scores=True)\n",
    "warnings.filterwarnings(\"default\")"
   ]
  },
  {
   "cell_type": "code",
   "execution_count": null,
   "metadata": {},
   "outputs": [],
   "source": []
  },
  {
   "cell_type": "code",
   "execution_count": null,
   "metadata": {},
   "outputs": [],
   "source": []
  },
  {
   "cell_type": "markdown",
   "metadata": {},
   "source": [
    "## Predicting whether 2 cities belong to the same country"
   ]
  },
  {
   "cell_type": "code",
   "execution_count": 136,
   "metadata": {},
   "outputs": [
    {
     "name": "stderr",
     "output_type": "stream",
     "text": [
      "dataset creation: 100%|██████████| 500/500 [00:01<00:00, 385.70it/s]\n"
     ]
    }
   ],
   "source": [
    "embeddings = datasets['bertLarge']['avg']\n",
    "X,y,pairs = create_SameCountry_dataset(embeddings,total_size=1000,out_pairs=True)"
   ]
  },
  {
   "cell_type": "code",
   "execution_count": 139,
   "metadata": {},
   "outputs": [
    {
     "name": "stdout",
     "output_type": "stream",
     "text": [
      "number of identical pairs : 20\n"
     ]
    }
   ],
   "source": [
    "print('number of identical pairs : '+str(sum([pair[0]==pair[1] for pair in pairs])))"
   ]
  },
  {
   "cell_type": "code",
   "execution_count": 142,
   "metadata": {},
   "outputs": [
    {
     "name": "stdout",
     "output_type": "stream",
     "text": [
      "bert -----------------------\n",
      "dataset creation: 100%|██████████| 500/500 [00:01<00:00, 413.37it/s]\n",
      "random control: 100%|██████████| 10/10 [00:33<00:00,  3.38s/it]\n",
      "bertLarge -----------------------\n",
      "dataset creation: 100%|██████████| 500/500 [00:01<00:00, 383.61it/s]\n",
      "random control: 100%|██████████| 10/10 [00:37<00:00,  3.73s/it]\n",
      "gpt2 -----------------------\n",
      "dataset creation: 100%|██████████| 500/500 [00:01<00:00, 392.09it/s]\n",
      "random control: 100%|██████████| 10/10 [01:27<00:00,  8.75s/it]\n",
      "roberta -----------------------\n",
      "dataset creation: 100%|██████████| 500/500 [00:01<00:00, 377.84it/s]\n",
      "random control: 100%|██████████| 10/10 [00:48<00:00,  4.89s/it]\n"
     ]
    },
    {
     "data": {
      "image/png": "[encoded data removed]",
      "text/plain": [
       "<Figure size 1080x720 with 1 Axes>"
      ]
     },
     "metadata": {},
     "output_type": "display_data"
    }
   ],
   "source": [
    "compare_models(model=MLPClassifier,model_kwargs={'max_iter':1000,'solver':'adam'},\n",
    "               datasets_dict=datasets,\n",
    "               f_dataset=create_SameCountry_dataset,f_dataset_kwargs={'total_size':1000},\n",
    "               LMs=['bert','bertLarge','gpt2','roberta'],ylims=(0,1),y_label='Accuracy',\n",
    "               fig_title='Accuracy for SameCountry prediction using MLP classifier',\n",
    "              fig_name='4layers_SameCountry_mlp.png')"
   ]
  },
  {
   "cell_type": "markdown",
   "metadata": {},
   "source": [
    "## Predicting cities' population"
   ]
  },
  {
   "cell_type": "code",
   "execution_count": 156,
   "metadata": {},
   "outputs": [
    {
     "name": "stdout",
     "output_type": "stream",
     "text": [
      "bert -----------------------\n",
      "random control: 100%|██████████| 1/1 [01:11<00:00, 71.40s/it]\n",
      "bertLarge -----------------------\n",
      "random control: 100%|██████████| 1/1 [01:35<00:00, 95.42s/it]\n",
      "gpt2 -----------------------\n",
      "random control: 100%|██████████| 1/1 [01:06<00:00, 66.15s/it]\n",
      "roberta -----------------------\n",
      "random control: 100%|██████████| 1/1 [01:14<00:00, 74.41s/it]\n"
     ]
    },
    {
     "data": {
      "image/png": "[encoded data removed]",
      "text/plain": [
       "<Figure size 1080x720 with 1 Axes>"
      ]
     },
     "metadata": {},
     "output_type": "display_data"
    }
   ],
   "source": [
    "warnings.filterwarnings(\"ignore\")\n",
    "compare_models(model=MLPRegressor,model_kwargs={'max_iter':1000},\n",
    "               datasets_dict=datasets,\n",
    "               f_dataset=create_population_dataset,f_dataset_kwargs={'total_size':1000},\n",
    "               LMs=['bert','bertLarge','gpt2','roberta'],ylims=(-1,1),y_label='R² score',\n",
    "               fig_title='R² score for population prediction using MLP regressor',\n",
    "              fig_name='4layers_population_mlp.png',n_test=1)\n",
    "warnings.filterwarnings(\"default\")"
   ]
  },
  {
   "cell_type": "code",
   "execution_count": 151,
   "metadata": {},
   "outputs": [],
   "source": [
    "lm = 'bertLarge'\n",
    "ctx = 'avg'\n",
    "X = datasets[lm][ctx]\n",
    "y = cities.Population"
   ]
  },
  {
   "cell_type": "code",
   "execution_count": 152,
   "metadata": {},
   "outputs": [
    {
     "name": "stderr",
     "output_type": "stream",
     "text": [
      "/home/bastien/anaconda3/envs/work/lib/python3.7/site-packages/sklearn/neural_network/_multilayer_perceptron.py:617: ConvergenceWarning: Stochastic Optimizer: Maximum iterations (2000) reached and the optimization hasn't converged yet.\n",
      "  % self.max_iter, ConvergenceWarning)\n"
     ]
    },
    {
     "data": {
      "text/plain": [
       "0.1982869093319105"
      ]
     },
     "execution_count": 152,
     "metadata": {},
     "output_type": "execute_result"
    }
   ],
   "source": [
    "X_train, X_test, y_train, y_test = train_test_split(X,y,test_size=0.2)\n",
    "reg = MLPRegressor(max_iter=2000)\n",
    "reg.fit(X_train,y_train)\n",
    "reg.score(X_test,y_test)"
   ]
  },
  {
   "cell_type": "code",
   "execution_count": null,
   "metadata": {},
   "outputs": [],
   "source": []
  },
  {
   "cell_type": "code",
   "execution_count": null,
   "metadata": {},
   "outputs": [],
   "source": []
  }
 ],
 "metadata": {
  "kernelspec": {
   "display_name": "Python 3 (ipykernel)",
   "language": "python",
   "name": "python3"
  },
  "language_info": {
   "codemirror_mode": {
    "name": "ipython",
    "version": 3
   },
   "file_extension": ".py",
   "mimetype": "text/x-python",
   "name": "python",
   "nbconvert_exporter": "python",
   "pygments_lexer": "ipython3",
   "version": "3.7.0"
  }
 },
 "nbformat": 4,
 "nbformat_minor": 4
}
